{
 "cells": [
  {
   "cell_type": "code",
   "execution_count": 2,
   "id": "88d41cc2",
   "metadata": {},
   "outputs": [
    {
     "name": "stdout",
     "output_type": "stream",
     "text": [
      "[WinError 2] Le fichier spécifié est introuvable: 'MF'\n",
      "C:\\Users\\ASUS\\Documents\\MyStudies\\Simulation - informatique\\Najwa\\MF\\transfer_functions\n"
     ]
    }
   ],
   "source": [
    "cd MF"
   ]
  },
  {
   "cell_type": "code",
   "execution_count": 1,
   "id": "cb150a8a",
   "metadata": {},
   "outputs": [
    {
     "ename": "ModuleNotFoundError",
     "evalue": "No module named 'transfer_functions'",
     "output_type": "error",
     "traceback": [
      "\u001b[1;31m---------------------------------------------------------------------------\u001b[0m",
      "\u001b[1;31mModuleNotFoundError\u001b[0m                       Traceback (most recent call last)",
      "\u001b[1;32m<ipython-input-1-5d26620a4e6c>\u001b[0m in \u001b[0;36m<module>\u001b[1;34m\u001b[0m\n\u001b[0;32m      3\u001b[0m \u001b[1;31m#sys.path.append('mean_field_adapt')\u001b[0m\u001b[1;33m\u001b[0m\u001b[1;33m\u001b[0m\u001b[1;33m\u001b[0m\u001b[0m\n\u001b[0;32m      4\u001b[0m \u001b[1;31m#from transfer_functions.tf_simulation import single_experiment_2,single_experiment\u001b[0m\u001b[1;33m\u001b[0m\u001b[1;33m\u001b[0m\u001b[1;33m\u001b[0m\u001b[0m\n\u001b[1;32m----> 5\u001b[1;33m \u001b[1;32mfrom\u001b[0m \u001b[0mtransfer_functions\u001b[0m\u001b[1;33m.\u001b[0m\u001b[0mload_config\u001b[0m \u001b[1;32mimport\u001b[0m \u001b[0mload_transfer_functions\u001b[0m\u001b[1;33m,\u001b[0m\u001b[0mload_transfer_functions_with_ALL_params\u001b[0m\u001b[1;33m\u001b[0m\u001b[1;33m\u001b[0m\u001b[0m\n\u001b[0m\u001b[0;32m      6\u001b[0m \u001b[1;32mfrom\u001b[0m \u001b[0mscipy\u001b[0m\u001b[1;33m.\u001b[0m\u001b[0mintegrate\u001b[0m \u001b[1;32mimport\u001b[0m \u001b[0modeint\u001b[0m\u001b[1;33m\u001b[0m\u001b[1;33m\u001b[0m\u001b[0m\n\u001b[0;32m      7\u001b[0m \u001b[1;32mfrom\u001b[0m \u001b[0msingle_cell_models\u001b[0m\u001b[1;33m.\u001b[0m\u001b[0mcell_library\u001b[0m \u001b[1;32mimport\u001b[0m \u001b[0mget_neuron_params\u001b[0m\u001b[1;33m\u001b[0m\u001b[1;33m\u001b[0m\u001b[0m\n",
      "\u001b[1;31mModuleNotFoundError\u001b[0m: No module named 'transfer_functions'"
     ]
    }
   ],
   "source": [
    "import numpy as np\n",
    "import sys\n",
    "#sys.path.append('mean_field_adapt')\n",
    "#from transfer_functions.tf_simulation import single_experiment_2,single_experiment\n",
    "from transfer_functions.load_config import load_transfer_functions,load_transfer_functions_with_ALL_params\n",
    "from scipy.integrate import odeint\n",
    "from single_cell_models.cell_library import get_neuron_params\n",
    "from synapses_and_connectivity.syn_and_connec_library import get_connectivity_and_synapses_matrix\n",
    "from transfer_functions.tf_simulation import reformat_syn_parameters\n",
    "import matplotlib.pylab as plt\n",
    "from transfer_functions.data import *\n",
    "from graphs import *\n",
    "\n",
    "\n",
    "from scipy.optimize import fsolve\n",
    "from scipy.optimize import minimize\n",
    "import math"
   ]
  },
  {
   "cell_type": "code",
   "execution_count": null,
   "id": "9351b04a",
   "metadata": {},
   "outputs": [],
   "source": [
    "from MF_functions_clean import *"
   ]
  }
 ],
 "metadata": {
  "kernelspec": {
   "display_name": "Python 3",
   "language": "python",
   "name": "python3"
  },
  "language_info": {
   "codemirror_mode": {
    "name": "ipython",
    "version": 3
   },
   "file_extension": ".py",
   "mimetype": "text/x-python",
   "name": "python",
   "nbconvert_exporter": "python",
   "pygments_lexer": "ipython3",
   "version": "3.8.8"
  }
 },
 "nbformat": 4,
 "nbformat_minor": 5
}
