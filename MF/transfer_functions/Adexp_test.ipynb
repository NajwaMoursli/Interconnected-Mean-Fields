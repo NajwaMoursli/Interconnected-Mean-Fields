{
 "cells": [
  {
   "cell_type": "code",
   "execution_count": 13,
   "metadata": {},
   "outputs": [],
   "source": [
    "test=np.load('FS-cell_seizure_CONFIG1_fit.npy')"
   ]
  },
  {
   "cell_type": "code",
   "execution_count": 1,
   "metadata": {},
   "outputs": [],
   "source": [
    "import numpy as np\n",
    "import sys\n",
    "sys.path.append('../')\n",
    "#from transfer_functions.tf_simulation import single_experiment_2,single_experiment\n",
    "from transfer_functions.load_config import load_transfer_functions\n",
    "from scipy.integrate import odeint\n",
    "from single_cell_models.cell_library import get_neuron_params\n",
    "from synapses_and_connectivity.syn_and_connec_library import get_connectivity_and_synapses_matrix\n",
    "from transfer_functions.tf_simulation import reformat_syn_parameters\n",
    "import matplotlib.pylab as plt\n",
    "\n",
    "from scipy.optimize import fsolve\n",
    "from scipy.optimize import minimize\n",
    "import math"
   ]
  },
  {
   "cell_type": "code",
   "execution_count": 2,
   "metadata": {},
   "outputs": [],
   "source": [
    "def deriv1(funct,v,numb_var,h):\n",
    "\n",
    "    first_deriv=[]\n",
    "    #vsec_plus=np.ones(numb_var)\n",
    "    #vsec_minus=np.ones(numb_var)\n",
    "    \n",
    "    #for i in range(numb_var+numb_adapt): # initialization of perturbation vector\n",
    "    vsec_plus=v.copy()\n",
    "    vsec_minus=v.copy()\n",
    "    \n",
    "    for i in range(numb_var):\n",
    "        vsec_plus[i]+=0.5*h # perturb one component\n",
    "        vsec_minus[i]-=0.5*h\n",
    "        first_deriv.append((funct(*vsec_plus)-funct(*vsec_minus))/h)\n",
    "        vsec_plus[i]=v[i] # reset component\n",
    "        vsec_minus[i]=v[i]\n",
    "        \n",
    "    return first_deriv\n",
    "\n",
    "def deriv2(funct,v,numb_var,h):  \n",
    "    # separate first and second deriv to avoid useless confusion\n",
    "    sec_deriv=[]\n",
    "    #vsec_plus=np.ones(numb_var)\n",
    "    #vsec_minus=np.ones(numb_var)\n",
    "    #first_deriv=deriv1(funct,v,numb_var,h)\n",
    "    \n",
    "    #for i in range(numb_var+numb_adapt): # initialization of perturbation vector\n",
    "    vsec_plus=v.copy()\n",
    "    vsec_minus=v.copy()\n",
    "        \n",
    "    for i in range(numb_var):\n",
    "        deriv_2_temp=[]\n",
    "        for j in range(numb_var):\n",
    "            vsec_plus[j]+=0.5*h # perturb one component\n",
    "            vsec_minus[j]-=0.5*h    \n",
    "            deriv_2_temp.append((deriv1(funct,vsec_plus,numb_var,h)[i]-\\\n",
    "                                 deriv1(funct,vsec_minus,numb_var,h)[i])/h)\n",
    "            vsec_plus[j]=v[j] # reset component\n",
    "            vsec_minus[j]=v[j]\n",
    "        \n",
    "        sec_deriv.append(deriv_2_temp)\n",
    "        \n",
    "    return sec_deriv"
   ]
  },
  {
   "cell_type": "code",
   "execution_count": 157,
   "metadata": {},
   "outputs": [],
   "source": [
    "def rk4_withstep(x0,params,time):\n",
    "\n",
    "    p=params[1]# // variables needed to build arrays\n",
    "    #int lp = par[8];\n",
    "    dx=np.zeros(p)  \n",
    "    deriv=np.zeros(p)\n",
    "    xt = np.zeros(p)\n",
    "\n",
    "    for i in range(p):\n",
    "        dx[i]=deriv[i]=xt[i]=0\n",
    "    \n",
    "    deriv=MeanField_Split(x0, params, time)\n",
    "\n",
    "    for i in range(p): \n",
    "        dx[i]=deriv[i] # x[i]=k1[i]\n",
    "        xt[i]=x0[i]+0.5*deriv[i]*params[0] # argument for k2 (careful k1,2,3,4 in comment = k's of RK method, different from k1 & k2 of the code)\n",
    "\n",
    "    time+=params[0]/2;\n",
    "\n",
    "    deriv=MeanField_Split(xt, params, time)\n",
    "    \n",
    "    for i in range(p):\n",
    "        dx[i]+=2*deriv[i] # x[i]=k1[i]+2*k2[i]\n",
    "        xt[i]=x0[i]+0.5*deriv[i]*params[0] # argument for k3\t\n",
    "\n",
    "\n",
    "    deriv=MeanField_Split(xt, params, time)\n",
    "\n",
    "\n",
    "    for i in range(p):\n",
    "        dx[i]+=2*deriv[i] \n",
    "        xt[i]=x0[i]+deriv[i]*params[0] # //argument for k4\n",
    "\n",
    "    time+=params[0]/2;\n",
    "\n",
    "    deriv=MeanField_Split(xt, params, time)\n",
    "\n",
    "\n",
    "    for i in range(p):\n",
    "        dx[i]+=deriv[i] # x[i]=k1[i]+2*k2[i]\n",
    "        xt[i]=x0[i]+deriv[i]*params[0] \n",
    "\n",
    "\n",
    "    for i in range(p):\n",
    "        x0[i]=x0[i]+dx[i]*params[0]/6.0\n",
    "        \n",
    "        \n",
    "        \n",
    "def Euler_method_withstep(x0,params,time):\n",
    "    \n",
    "    p=params[1]\n",
    "    deriv=MeanField_dynamics_manual(x0, time)\n",
    "   # print('deriv = ', deriv)\n",
    "    for i in range(p): \n",
    "        x0[i]+=deriv[i]*params[0]\n",
    "\n",
    "    time+=params[0]\n",
    "\n",
    "   \n",
    "        "
   ]
  },
  {
   "cell_type": "code",
   "execution_count": 156,
   "metadata": {},
   "outputs": [],
   "source": [
    "def MeanField_Split(x0,params,t):\n",
    "    #print(' t = ',t)\n",
    "    tstep=params[0]\n",
    "    tauw=params[2]\n",
    "    a=params[3]\n",
    "    b=params[4]\n",
    "    El=params[5]\n",
    "    N=params[6]\n",
    "    numb_var=params[7]\n",
    "    numb_adapt=params[8]\n",
    "    F=params[9]\n",
    "    h=params[10]\n",
    "    T=params[11]\n",
    "    mu=params[20]\n",
    "    ext_drive=params[21]\n",
    "    v=[]\n",
    "    c=[]\n",
    "    w=[]\n",
    "   # vsec_vec=[]\n",
    "    \n",
    "    testtau=tauw[0]\n",
    "    testb=b[0]\n",
    "    testa=a[0]\n",
    "    testmu=mu[0]\n",
    "    testEl=El[0]\n",
    "    index=0\n",
    "    \n",
    "    vsec_vec=np.zeros((numb_var,numb_var+1)) # Needed to pass different values to TF1 and TF2\n",
    "    ''' Reshape the variables for more clarity '''\n",
    "    \n",
    "    for i in range(numb_var):\n",
    "        v.append(x0[i])\n",
    "        \n",
    "        c_temp=[]\n",
    "        for j in range(numb_var):\n",
    "            c_temp.append(x0[index+numb_var])\n",
    "            index+=1\n",
    "            vsec_vec[i][j]=x0[j]\n",
    "        c.append(c_temp)\n",
    "        \n",
    "    index=0 # rester index   \n",
    "    \n",
    "    for k in range(numb_adapt):\n",
    "        w.append(x0[numb_var*numb_var+numb_var+index])\n",
    "        for i in range(numb_var):\n",
    "            if (i<numb_adapt): vsec_vec[i][numb_var]=x0[numb_var*numb_var+numb_var+index]\n",
    "                #else: vsec_vec[i][numb_var]=0\n",
    "        index+=1\n",
    "    \n",
    "    testw=w[0]\n",
    "    \n",
    "\n",
    "                   \n",
    "    #A = A_function(N,vsec,T,numb_var)\n",
    "        \n",
    "    #v_exc=(v[0]+v[1])/2+10.+input_rate(t,2,0.1,0.3,5)\n",
    "    \n",
    "   # vsec=v[0]+10.#+input_rate(t,0.5,0.05,0.2,5)\n",
    "    #vsec_vec=x0.copy() # for the derivatives\n",
    "    \n",
    "    for i in range(numb_var):\n",
    "        vsec_vec[i][0]+=ext_drive+input_rate(t, 2., 0.1, 0.1, 120, 1) #+input_rate(t,0.1,0.005,0.02,10)\n",
    "    \n",
    "    dv=np.zeros(numb_var)\n",
    "    dc=np.zeros((numb_var,numb_var))\n",
    "    dw=np.zeros(numb_adapt)\n",
    "    \n",
    "    # Define the derivatives here to compute them only once #\n",
    "    \n",
    "    Delta1=np.zeros((numb_var,numb_var))\n",
    "    Delta2=np.zeros((numb_var,numb_var,numb_var))\n",
    "    \n",
    "    Eval_TF=np.zeros(numb_var)\n",
    "    \n",
    "    for i in range(numb_var):\n",
    "        Eval_TF[i]=F[i](*vsec_vec[i])\n",
    "        #print('evaluated TF',i,' = ', Eval_TF[i])\n",
    "        for k in range(numb_var):\n",
    "            Delta1[i][k]=deriv1(F[i],vsec_vec[i],numb_var,h)[k]\n",
    "            for j in range(numb_var):\n",
    "                Delta2[i][k][j]=deriv2(F[i],vsec_vec[i],numb_var,h)[k][j]\n",
    "                #print(Delta2[i][k][j])\n",
    "             \n",
    "    # Define the mu functions\n",
    "    \n",
    "    #mu=np.zeros(numb_adapt)\n",
    "    \n",
    "    #vtemp=np.zeros((numb_var,numb_var+numb_var*numb_var))\n",
    "    #ctemp=np.zeros((numb_var,numb_var,numb_var+1))\n",
    "    \n",
    "    for i in range(numb_var):\n",
    "        dv[i]=(Eval_TF[i]-v[i])\n",
    "        index=0\n",
    "        #vtemp[i][index]=(F[i](*vsec_vec[i])-v[i])\n",
    "        index+=1\n",
    "        dc[i][i]+=(Eval_TF[i]*(1./T-Eval_TF[i])/N[i])\n",
    "        for j in range(numb_var):\n",
    "            for k in range(numb_var): \n",
    "                dv[i]+=(0.5*Delta2[i][j][k]*c[j][k])\n",
    "                #vtemp[i][index]=(0.5*Delta2[i][j][k]*c[j][k])\n",
    "                index+=1\n",
    "                \n",
    "            index=0\n",
    "            #if(i==j):\n",
    "                #dc[i][j]+=(F[i](*vsec_vec[i])*(1./T-F[i](*vsec_vec[i]))/N[i])\n",
    "                #ctemp[i][j][index]=(F[i](*vsec_vec[i])*(1./T-F[i](*vsec_vec[i]))/N[i])\n",
    "            dc[i][j]+=((Eval_TF[i]-v[i])*(Eval_TF[j]-v[j])-2*c[i][j])\n",
    "            #ctemp[i][j][index]=((F[i](*vsec_vec[i])-v[i])*(F[j](*vsec_vec[j])-v[j])-2*c[i][j])\n",
    "            index+=1\n",
    "            for k in range(numb_var):\n",
    "                dc[i][j]+=(c[j][k]*Delta1[i][k]+c[i][k]*Delta1[j][k])\n",
    "                #ctemp[i][j][index]=(c[j][k]*Delta1[i][k]+c[i][k]*Delta1[j][k])\n",
    "                index+=1\n",
    "    for i in range(numb_adapt):\n",
    "        dw[i]=(-w[i]/tauw[i]+b[i]*v[i])#+a[i]*(mu[i](*vsec_vec[i],params)-El[i]))\n",
    "        \n",
    "      # DEFINE MU !!!!#\n",
    "    \n",
    "    \n",
    "    ''' Reshape the deriv to plug it into RK4 routine '''\n",
    "        \n",
    "    '''deriv_sec=[]\n",
    "\n",
    "    dvtemp=np.zeros(numb_var)\n",
    "    dctemp=np.zeros((numb_var,numb_var))\n",
    "    \n",
    "    for i in range(numb_var):\n",
    "        dvtemp[i]=vtemp[i].sum()/T\n",
    "        deriv_sec.append(dvtemp[i])\n",
    "        \n",
    "    for i in range(numb_var):\n",
    "        for j in range(numb_var):\n",
    "            dctemp[i][j]=ctemp[i][j].sum()/T\n",
    "            deriv_sec.append(dctemp[i][j])\n",
    "       '''\n",
    "    deriv=[]\n",
    "    \n",
    "    for i in range(numb_var):\n",
    "        deriv.append(dv[i]/T)\n",
    "    \n",
    "    for i in range(numb_var):\n",
    "        for j in range(numb_var):\n",
    "            deriv.append(dc[i][j]/T)\n",
    "    \n",
    "    for i in range(numb_adapt):\n",
    "        deriv.append(dw[i])\n",
    "        #deriv_sec.append(dw[i])\n",
    "        \n",
    "        \n",
    "    return deriv"
   ]
  },
  {
   "cell_type": "code",
   "execution_count": null,
   "metadata": {},
   "outputs": [],
   "source": [
    "def MeanField_Split_odeint(x0,t):\n",
    "    #print(' t = ',t)\n",
    "    tstep=params[0]\n",
    "    tauw=params[2]\n",
    "    a=params[3]\n",
    "    b=params[4]\n",
    "    El=params[5]\n",
    "    N=params[6]\n",
    "    numb_var=params[7]\n",
    "    numb_adapt=params[8]\n",
    "    F=params[9]\n",
    "    h=params[10]\n",
    "    T=params[11]\n",
    "    mu=params[20]\n",
    "    ext_drive=params[21]\n",
    "    v=[]\n",
    "    c=[]\n",
    "    w=[]\n",
    "   # vsec_vec=[]\n",
    "    \n",
    "    testtau=tauw[0]\n",
    "    testb=b[0]\n",
    "    testa=a[0]\n",
    "    testmu=mu[0]\n",
    "    testEl=El[0]\n",
    "    index=0\n",
    "    \n",
    "    vsec_vec=np.zeros((numb_var,numb_var+1)) # Needed to pass different values to TF1 and TF2\n",
    "    ''' Reshape the variables for more clarity '''\n",
    "    \n",
    "    for i in range(numb_var):\n",
    "        v.append(x0[i])\n",
    "        \n",
    "        c_temp=[]\n",
    "        for j in range(numb_var):\n",
    "            c_temp.append(x0[index+numb_var])\n",
    "            index+=1\n",
    "            vsec_vec[i][j]=x0[j]\n",
    "        c.append(c_temp)\n",
    "        \n",
    "    index=0 # rester index   \n",
    "    \n",
    "    for k in range(numb_adapt):\n",
    "        w.append(x0[numb_var*numb_var+numb_var+index])\n",
    "        for i in range(numb_var):\n",
    "            if (i<numb_adapt): vsec_vec[i][numb_var]=x0[numb_var*numb_var+numb_var+index]\n",
    "                #else: vsec_vec[i][numb_var]=0\n",
    "        index+=1\n",
    "    \n",
    "    testw=w[0]\n",
    "    \n",
    "\n",
    "                   \n",
    "    #A = A_function(N,vsec,T,numb_var)\n",
    "        \n",
    "    #v_exc=(v[0]+v[1])/2+10.+input_rate(t,2,0.1,0.3,5)\n",
    "    \n",
    "   # vsec=v[0]+10.#+input_rate(t,0.5,0.05,0.2,5)\n",
    "    #vsec_vec=x0.copy() # for the derivatives\n",
    "    \n",
    "    for i in range(numb_var):\n",
    "        vsec_vec[i][0]+=ext_drive+input_rate(t, 2., 0.1, 0.1, 120, 1) #+input_rate(t,0.1,0.005,0.02,10)\n",
    "    \n",
    "    dv=np.zeros(numb_var)\n",
    "    dc=np.zeros((numb_var,numb_var))\n",
    "    dw=np.zeros(numb_adapt)\n",
    "    \n",
    "    # Define the derivatives here to compute them only once #\n",
    "    \n",
    "    Delta1=np.zeros((numb_var,numb_var))\n",
    "    Delta2=np.zeros((numb_var,numb_var,numb_var))\n",
    "    \n",
    "    Eval_TF=np.zeros(numb_var)\n",
    "    \n",
    "    for i in range(numb_var):\n",
    "        Eval_TF[i]=F[i](*vsec_vec[i])\n",
    "        #print('evaluated TF',i,' = ', Eval_TF[i])\n",
    "        for k in range(numb_var):\n",
    "            Delta1[i][k]=deriv1(F[i],vsec_vec[i],numb_var,h)[k]\n",
    "            for j in range(numb_var):\n",
    "                Delta2[i][k][j]=deriv2(F[i],vsec_vec[i],numb_var,h)[k][j]\n",
    "                #print(Delta2[i][k][j])\n",
    "             \n",
    "    # Define the mu functions\n",
    "    \n",
    "    #mu=np.zeros(numb_adapt)\n",
    "    \n",
    "    #vtemp=np.zeros((numb_var,numb_var+numb_var*numb_var))\n",
    "    #ctemp=np.zeros((numb_var,numb_var,numb_var+1))\n",
    "    \n",
    "    for i in range(numb_var):\n",
    "        dv[i]=(Eval_TF[i]-v[i])\n",
    "        index=0\n",
    "        #vtemp[i][index]=(F[i](*vsec_vec[i])-v[i])\n",
    "        index+=1\n",
    "        dc[i][i]+=(Eval_TF[i]*(1./T-Eval_TF[i])/N[i])\n",
    "        for j in range(numb_var):\n",
    "            for k in range(numb_var): \n",
    "                dv[i]+=(0.5*Delta2[i][j][k]*c[j][k])\n",
    "                #vtemp[i][index]=(0.5*Delta2[i][j][k]*c[j][k])\n",
    "                index+=1\n",
    "                \n",
    "            index=0\n",
    "            #if(i==j):\n",
    "                #dc[i][j]+=(F[i](*vsec_vec[i])*(1./T-F[i](*vsec_vec[i]))/N[i])\n",
    "                #ctemp[i][j][index]=(F[i](*vsec_vec[i])*(1./T-F[i](*vsec_vec[i]))/N[i])\n",
    "            dc[i][j]+=((Eval_TF[i]-v[i])*(Eval_TF[j]-v[j])-2*c[i][j])\n",
    "            #ctemp[i][j][index]=((F[i](*vsec_vec[i])-v[i])*(F[j](*vsec_vec[j])-v[j])-2*c[i][j])\n",
    "            index+=1\n",
    "            for k in range(numb_var):\n",
    "                dc[i][j]+=(c[j][k]*Delta1[i][k]+c[i][k]*Delta1[j][k])\n",
    "                #ctemp[i][j][index]=(c[j][k]*Delta1[i][k]+c[i][k]*Delta1[j][k])\n",
    "                index+=1\n",
    "    for i in range(numb_adapt):\n",
    "        dw[i]=(-w[i]/tauw[i]+b[i]*v[i])#+a[i]*(mu[i](*vsec_vec[i],params)-El[i]))\n",
    "        \n",
    "      # DEFINE MU !!!!#\n",
    "    \n",
    "    \n",
    "    ''' Reshape the deriv to plug it into RK4 routine '''\n",
    "        \n",
    "    '''deriv_sec=[]\n",
    "\n",
    "    dvtemp=np.zeros(numb_var)\n",
    "    dctemp=np.zeros((numb_var,numb_var))\n",
    "    \n",
    "    for i in range(numb_var):\n",
    "        dvtemp[i]=vtemp[i].sum()/T\n",
    "        deriv_sec.append(dvtemp[i])\n",
    "        \n",
    "    for i in range(numb_var):\n",
    "        for j in range(numb_var):\n",
    "            dctemp[i][j]=ctemp[i][j].sum()/T\n",
    "            deriv_sec.append(dctemp[i][j])\n",
    "       '''\n",
    "    deriv=[]\n",
    "    \n",
    "    for i in range(numb_var):\n",
    "        deriv.append(dv[i]/T)\n",
    "    \n",
    "    for i in range(numb_var):\n",
    "        for j in range(numb_var):\n",
    "            deriv.append(dc[i][j]/T)\n",
    "    \n",
    "    for i in range(numb_adapt):\n",
    "        deriv.append(dw[i])\n",
    "        #deriv_sec.append(dw[i])\n",
    "        \n",
    "        \n",
    "    return deriv"
   ]
  },
  {
   "cell_type": "code",
   "execution_count": 29,
   "metadata": {},
   "outputs": [],
   "source": [
    "def mu_V(ve,vi,w,params):\n",
    "    \n",
    "    Ke=0.05*params[6][0]\n",
    "    Ki=0.05*params[6][0]\n",
    "    tau_e=params[12]\n",
    "    tau_i=params[13]\n",
    "    Qe=params[14]\n",
    "    Qi=params[15]\n",
    "    Ee=params[16]\n",
    "    Ei=params[17]\n",
    "    El=params[18]\n",
    "    gl=params[19]\n",
    "    \n",
    "    mu_Ge=ve*Ke*tau_e*Qe\n",
    "   # sigma_Ge=math.sqrt(ve*Ke*tau_e/2)*Qe\n",
    "    mu_Gi=vi*Ki*tau_i*Qi\n",
    "    #sigma_Gi=math.sqrt(vi*Ki*tau_i/2)*Qi\n",
    "    mu_G=mu_Ge+mu_Gi+gl\n",
    "    muV=(mu_Ge*Ee+mu_Gi*Ei+gl*El-w)/mu_G\n",
    "    return muV"
   ]
  },
  {
   "cell_type": "code",
   "execution_count": 30,
   "metadata": {},
   "outputs": [],
   "source": [
    "def heaviside(x):\n",
    "    return 0.5 * (1 + np.sign(x))\n",
    "\n",
    "def input_rate(t, t1_exc, tau1_exc, tau2_exc, ampl_exc, plateau):\n",
    "    # t1_exc=10. # time of the maximum of external stimulation\n",
    "    # tau1_exc=20. # first time constant of perturbation = rising time\n",
    "    # tau2_exc=50. # decaying time\n",
    "    # ampl_exc=20. # amplitude of excitation\n",
    "    inp = ampl_exc * (np.exp(-(t - t1_exc) ** 2 / (2. * tau1_exc ** 2)) * heaviside(-(t - t1_exc)) + \\\n",
    "                      heaviside(-(t - (t1_exc+plateau))) * heaviside(t - (t1_exc))+ \\\n",
    "                      np.exp(-(t - (t1_exc+plateau)) ** 2 / (2. * tau2_exc ** 2)) * heaviside(t - (t1_exc+plateau)))\n",
    "    return inp"
   ]
  },
  {
   "cell_type": "code",
   "execution_count": 158,
   "metadata": {},
   "outputs": [
    {
     "name": "stdout",
     "output_type": "stream",
     "text": [
      "paramsAAA [-0.05023106  0.00506355 -0.02347012  0.00229515  0.001      -0.00041053\n",
      "  0.01054705 -0.03659253  0.00743749  0.00126506 -0.04072161]\n",
      "[1e-06, 7, [1], [0], [1e-10], [0], [8000, 2000], 2, 1, (<function load_transfer_functions.<locals>.TF1 at 0x7fe0a5943d90>, <function load_transfer_functions.<locals>.TF2 at 0x7fe0a59430d0>), 0.0001, 0.005, 0.005, 0.005, 1.5e-09, 5e-09, 0, -0.08, -0.065, 1e-08, [<function mu_V at 0x7fe0a8512048>], 6.0]\n"
     ]
    }
   ],
   "source": [
    "# Run the MF without adaptation a = b = 0 \n",
    "sys.path.append('../')\n",
    "NTWK='CONFIG1'\n",
    "\n",
    "\n",
    "NRN1='RS-cell_seizure'\n",
    "NRN2='FS-cell_seizure'\n",
    "\n",
    "TF = load_transfer_functions(NRN1, NRN2, NTWK)\n",
    "h=0.0001\n",
    "T=0.005\n",
    "Ntot=10000\n",
    "#tstep=params[0]\n",
    "#tauw=params[2]\n",
    "#a=params[3]\n",
    "#b=params[4]\n",
    "#El=params[5]\n",
    "#N=params[6]\n",
    "#numb_var=params[7]\n",
    "#numb_adapt=params[8]\n",
    "#F=params[9]\n",
    "#h=params[10]\n",
    "#T=params[11]\n",
    "\n",
    "numb_par=22\n",
    "params=[]\n",
    "for i in range(numb_par): # need that to keep track of the index of params, and allowing to put list in there\n",
    "    params.append(0)\n",
    "\n",
    "params[0]=1e-6 #tstep\n",
    "params[1]=7 # total numb of var\n",
    "params[2]=[1] # tau_w\n",
    "params[3]=[0] # a\n",
    "params[4]=[100e-12] # b\n",
    "params[5]=[0]\n",
    "params[6]=[8000,2000]\n",
    "params[7]=2\n",
    "params[8]=1\n",
    "params[9]=TF\n",
    "params[10]=h\n",
    "params[11]=T\n",
    "params[12]=5e-3 # Tau_e\n",
    "params[13]=5e-3 # Tau_i\n",
    "params[14]=1.5e-9 # Qe\n",
    "params[15]=5e-9 # Qi\n",
    "params[16]=0 # Ee\n",
    "params[17]=-80e-3 # Ei\n",
    "params[18]=-65e-3 # El\n",
    "params[19]=10e-9 # gl\n",
    "params[20]=[mu_V]\n",
    "params[21]=6.\n",
    "\n",
    "'''\n",
    "params=[]\n",
    "params.append(1e-5)\n",
    "params.append(7)\n",
    "params.append([1]) #tauw e-3\n",
    "params.append([0]) # a\n",
    "params.append([60e-12]) # b e-12\n",
    "params.append([0])\n",
    "N=[]\n",
    "N.append(8000)\n",
    "N.append(2000)\n",
    "params.append(N)\n",
    "params.append(2) # numb of populations\n",
    "params.append(1) # numb of adaptive variables\n",
    "params.append(TF)\n",
    "params.append(h)\n",
    "params.append(T)\n",
    "params.append(5e-3) # Tau_e e-3\n",
    "params.append(5e-3) #Tau_i e-3\n",
    "params.append(1.5e-9) # Qe e-9\n",
    "params.append(5e-9) # Qi e-9\n",
    "params.append(0) # Ee\n",
    "params.append(-80e-3) # Ei e-3\n",
    "params.append(-65e-3) # El e-3\n",
    "params.append(10e-9) # Gl e-9\n",
    "params.append([mu_V])\n",
    "params.append(2.5) # External drive\n",
    "'''\n",
    "print(params)\n",
    "\n"
   ]
  },
  {
   "cell_type": "code",
   "execution_count": 159,
   "metadata": {},
   "outputs": [
    {
     "name": "stdout",
     "output_type": "stream",
     "text": [
      "[5.0e-01 1.7e+01 5.0e-01 5.0e-01 5.0e-01 5.0e-01 5.0e-11]\n"
     ]
    },
    {
     "ename": "KeyboardInterrupt",
     "evalue": "",
     "output_type": "error",
     "traceback": [
      "\u001b[0;31m---------------------------------------------------------------------------\u001b[0m",
      "\u001b[0;31mKeyboardInterrupt\u001b[0m                         Traceback (most recent call last)",
      "\u001b[0;32m<ipython-input-159-9c0b7895476d>\u001b[0m in \u001b[0;36m<module>\u001b[0;34m\u001b[0m\n\u001b[1;32m     13\u001b[0m \u001b[0;34m\u001b[0m\u001b[0m\n\u001b[1;32m     14\u001b[0m \u001b[0;32mfor\u001b[0m \u001b[0mi\u001b[0m \u001b[0;32min\u001b[0m \u001b[0mnp\u001b[0m\u001b[0;34m.\u001b[0m\u001b[0marange\u001b[0m\u001b[0;34m(\u001b[0m\u001b[0;36m0\u001b[0m\u001b[0;34m,\u001b[0m\u001b[0;36m10\u001b[0m\u001b[0;34m,\u001b[0m\u001b[0mparams\u001b[0m\u001b[0;34m[\u001b[0m\u001b[0;36m0\u001b[0m\u001b[0;34m]\u001b[0m\u001b[0;34m)\u001b[0m\u001b[0;34m:\u001b[0m\u001b[0;34m\u001b[0m\u001b[0;34m\u001b[0m\u001b[0m\n\u001b[0;32m---> 15\u001b[0;31m     \u001b[0mrk4_withstep\u001b[0m\u001b[0;34m(\u001b[0m\u001b[0mx0\u001b[0m\u001b[0;34m,\u001b[0m\u001b[0mparams\u001b[0m\u001b[0;34m,\u001b[0m\u001b[0mtime\u001b[0m\u001b[0;34m)\u001b[0m\u001b[0;34m\u001b[0m\u001b[0;34m\u001b[0m\u001b[0m\n\u001b[0m\u001b[1;32m     16\u001b[0m     \u001b[0mtime\u001b[0m\u001b[0;34m+=\u001b[0m\u001b[0mparams\u001b[0m\u001b[0;34m[\u001b[0m\u001b[0;36m0\u001b[0m\u001b[0;34m]\u001b[0m\u001b[0;34m\u001b[0m\u001b[0;34m\u001b[0m\u001b[0m\n\u001b[1;32m     17\u001b[0m     \u001b[0mt_trace2\u001b[0m\u001b[0;34m.\u001b[0m\u001b[0mappend\u001b[0m\u001b[0;34m(\u001b[0m\u001b[0mtime\u001b[0m\u001b[0;34m)\u001b[0m\u001b[0;34m\u001b[0m\u001b[0;34m\u001b[0m\u001b[0m\n",
      "\u001b[0;32m<ipython-input-157-0cf9f4702c80>\u001b[0m in \u001b[0;36mrk4_withstep\u001b[0;34m(x0, params, time)\u001b[0m\n\u001b[1;32m     25\u001b[0m \u001b[0;34m\u001b[0m\u001b[0m\n\u001b[1;32m     26\u001b[0m \u001b[0;34m\u001b[0m\u001b[0m\n\u001b[0;32m---> 27\u001b[0;31m     \u001b[0mderiv\u001b[0m\u001b[0;34m=\u001b[0m\u001b[0mMeanField_Split\u001b[0m\u001b[0;34m(\u001b[0m\u001b[0mxt\u001b[0m\u001b[0;34m,\u001b[0m \u001b[0mparams\u001b[0m\u001b[0;34m,\u001b[0m \u001b[0mtime\u001b[0m\u001b[0;34m)\u001b[0m\u001b[0;34m\u001b[0m\u001b[0;34m\u001b[0m\u001b[0m\n\u001b[0m\u001b[1;32m     28\u001b[0m \u001b[0;34m\u001b[0m\u001b[0m\n\u001b[1;32m     29\u001b[0m \u001b[0;34m\u001b[0m\u001b[0m\n",
      "\u001b[0;32m<ipython-input-156-28ed9cc71ed3>\u001b[0m in \u001b[0;36mMeanField_Split\u001b[0;34m(x0, params, t)\u001b[0m\n\u001b[1;32m     79\u001b[0m             \u001b[0mDelta1\u001b[0m\u001b[0;34m[\u001b[0m\u001b[0mi\u001b[0m\u001b[0;34m]\u001b[0m\u001b[0;34m[\u001b[0m\u001b[0mk\u001b[0m\u001b[0;34m]\u001b[0m\u001b[0;34m=\u001b[0m\u001b[0mderiv1\u001b[0m\u001b[0;34m(\u001b[0m\u001b[0mF\u001b[0m\u001b[0;34m[\u001b[0m\u001b[0mi\u001b[0m\u001b[0;34m]\u001b[0m\u001b[0;34m,\u001b[0m\u001b[0mvsec_vec\u001b[0m\u001b[0;34m[\u001b[0m\u001b[0mi\u001b[0m\u001b[0;34m]\u001b[0m\u001b[0;34m,\u001b[0m\u001b[0mnumb_var\u001b[0m\u001b[0;34m,\u001b[0m\u001b[0mh\u001b[0m\u001b[0;34m)\u001b[0m\u001b[0;34m[\u001b[0m\u001b[0mk\u001b[0m\u001b[0;34m]\u001b[0m\u001b[0;34m\u001b[0m\u001b[0;34m\u001b[0m\u001b[0m\n\u001b[1;32m     80\u001b[0m             \u001b[0;32mfor\u001b[0m \u001b[0mj\u001b[0m \u001b[0;32min\u001b[0m \u001b[0mrange\u001b[0m\u001b[0;34m(\u001b[0m\u001b[0mnumb_var\u001b[0m\u001b[0;34m)\u001b[0m\u001b[0;34m:\u001b[0m\u001b[0;34m\u001b[0m\u001b[0;34m\u001b[0m\u001b[0m\n\u001b[0;32m---> 81\u001b[0;31m                 \u001b[0mDelta2\u001b[0m\u001b[0;34m[\u001b[0m\u001b[0mi\u001b[0m\u001b[0;34m]\u001b[0m\u001b[0;34m[\u001b[0m\u001b[0mk\u001b[0m\u001b[0;34m]\u001b[0m\u001b[0;34m[\u001b[0m\u001b[0mj\u001b[0m\u001b[0;34m]\u001b[0m\u001b[0;34m=\u001b[0m\u001b[0mderiv2\u001b[0m\u001b[0;34m(\u001b[0m\u001b[0mF\u001b[0m\u001b[0;34m[\u001b[0m\u001b[0mi\u001b[0m\u001b[0;34m]\u001b[0m\u001b[0;34m,\u001b[0m\u001b[0mvsec_vec\u001b[0m\u001b[0;34m[\u001b[0m\u001b[0mi\u001b[0m\u001b[0;34m]\u001b[0m\u001b[0;34m,\u001b[0m\u001b[0mnumb_var\u001b[0m\u001b[0;34m,\u001b[0m\u001b[0mh\u001b[0m\u001b[0;34m)\u001b[0m\u001b[0;34m[\u001b[0m\u001b[0mk\u001b[0m\u001b[0;34m]\u001b[0m\u001b[0;34m[\u001b[0m\u001b[0mj\u001b[0m\u001b[0;34m]\u001b[0m\u001b[0;34m\u001b[0m\u001b[0;34m\u001b[0m\u001b[0m\n\u001b[0m\u001b[1;32m     82\u001b[0m                 \u001b[0;31m#print(Delta2[i][k][j])\u001b[0m\u001b[0;34m\u001b[0m\u001b[0;34m\u001b[0m\u001b[0;34m\u001b[0m\u001b[0m\n\u001b[1;32m     83\u001b[0m \u001b[0;34m\u001b[0m\u001b[0m\n",
      "\u001b[0;32m<ipython-input-2-9380289f9eea>\u001b[0m in \u001b[0;36mderiv2\u001b[0;34m(funct, v, numb_var, h)\u001b[0m\n\u001b[1;32m     34\u001b[0m             \u001b[0mvsec_plus\u001b[0m\u001b[0;34m[\u001b[0m\u001b[0mj\u001b[0m\u001b[0;34m]\u001b[0m\u001b[0;34m+=\u001b[0m\u001b[0;36m0.5\u001b[0m\u001b[0;34m*\u001b[0m\u001b[0mh\u001b[0m \u001b[0;31m# perturb one component\u001b[0m\u001b[0;34m\u001b[0m\u001b[0;34m\u001b[0m\u001b[0m\n\u001b[1;32m     35\u001b[0m             \u001b[0mvsec_minus\u001b[0m\u001b[0;34m[\u001b[0m\u001b[0mj\u001b[0m\u001b[0;34m]\u001b[0m\u001b[0;34m-=\u001b[0m\u001b[0;36m0.5\u001b[0m\u001b[0;34m*\u001b[0m\u001b[0mh\u001b[0m\u001b[0;34m\u001b[0m\u001b[0;34m\u001b[0m\u001b[0m\n\u001b[0;32m---> 36\u001b[0;31m             deriv_2_temp.append((deriv1(funct,vsec_plus,numb_var,h)[i]-\\\n\u001b[0m\u001b[1;32m     37\u001b[0m                                  deriv1(funct,vsec_minus,numb_var,h)[i])/h)\n\u001b[1;32m     38\u001b[0m             \u001b[0mvsec_plus\u001b[0m\u001b[0;34m[\u001b[0m\u001b[0mj\u001b[0m\u001b[0;34m]\u001b[0m\u001b[0;34m=\u001b[0m\u001b[0mv\u001b[0m\u001b[0;34m[\u001b[0m\u001b[0mj\u001b[0m\u001b[0;34m]\u001b[0m \u001b[0;31m# reset component\u001b[0m\u001b[0;34m\u001b[0m\u001b[0;34m\u001b[0m\u001b[0m\n",
      "\u001b[0;32m<ipython-input-2-9380289f9eea>\u001b[0m in \u001b[0;36mderiv1\u001b[0;34m(funct, v, numb_var, h)\u001b[0m\n\u001b[1;32m     12\u001b[0m         \u001b[0mvsec_plus\u001b[0m\u001b[0;34m[\u001b[0m\u001b[0mi\u001b[0m\u001b[0;34m]\u001b[0m\u001b[0;34m+=\u001b[0m\u001b[0;36m0.5\u001b[0m\u001b[0;34m*\u001b[0m\u001b[0mh\u001b[0m \u001b[0;31m# perturb one component\u001b[0m\u001b[0;34m\u001b[0m\u001b[0;34m\u001b[0m\u001b[0m\n\u001b[1;32m     13\u001b[0m         \u001b[0mvsec_minus\u001b[0m\u001b[0;34m[\u001b[0m\u001b[0mi\u001b[0m\u001b[0;34m]\u001b[0m\u001b[0;34m-=\u001b[0m\u001b[0;36m0.5\u001b[0m\u001b[0;34m*\u001b[0m\u001b[0mh\u001b[0m\u001b[0;34m\u001b[0m\u001b[0;34m\u001b[0m\u001b[0m\n\u001b[0;32m---> 14\u001b[0;31m         \u001b[0mfirst_deriv\u001b[0m\u001b[0;34m.\u001b[0m\u001b[0mappend\u001b[0m\u001b[0;34m(\u001b[0m\u001b[0;34m(\u001b[0m\u001b[0mfunct\u001b[0m\u001b[0;34m(\u001b[0m\u001b[0;34m*\u001b[0m\u001b[0mvsec_plus\u001b[0m\u001b[0;34m)\u001b[0m\u001b[0;34m-\u001b[0m\u001b[0mfunct\u001b[0m\u001b[0;34m(\u001b[0m\u001b[0;34m*\u001b[0m\u001b[0mvsec_minus\u001b[0m\u001b[0;34m)\u001b[0m\u001b[0;34m)\u001b[0m\u001b[0;34m/\u001b[0m\u001b[0mh\u001b[0m\u001b[0;34m)\u001b[0m\u001b[0;34m\u001b[0m\u001b[0;34m\u001b[0m\u001b[0m\n\u001b[0m\u001b[1;32m     15\u001b[0m         \u001b[0mvsec_plus\u001b[0m\u001b[0;34m[\u001b[0m\u001b[0mi\u001b[0m\u001b[0;34m]\u001b[0m\u001b[0;34m=\u001b[0m\u001b[0mv\u001b[0m\u001b[0;34m[\u001b[0m\u001b[0mi\u001b[0m\u001b[0;34m]\u001b[0m \u001b[0;31m# reset component\u001b[0m\u001b[0;34m\u001b[0m\u001b[0;34m\u001b[0m\u001b[0m\n\u001b[1;32m     16\u001b[0m         \u001b[0mvsec_minus\u001b[0m\u001b[0;34m[\u001b[0m\u001b[0mi\u001b[0m\u001b[0;34m]\u001b[0m\u001b[0;34m=\u001b[0m\u001b[0mv\u001b[0m\u001b[0;34m[\u001b[0m\u001b[0mi\u001b[0m\u001b[0;34m]\u001b[0m\u001b[0;34m\u001b[0m\u001b[0;34m\u001b[0m\u001b[0m\n",
      "\u001b[0;32m/media/mcarlu/DATA/NEURO/June_LETS_GET_SERIOUS/mean_field_adapt/transfer_functions/load_config.py\u001b[0m in \u001b[0;36mTF2\u001b[0;34m(fe, fi, XX)\u001b[0m\n\u001b[1;32m     57\u001b[0m         \u001b[0mparams2\u001b[0m\u001b[0;34m[\u001b[0m\u001b[0;34m'P'\u001b[0m\u001b[0;34m]\u001b[0m \u001b[0;34m=\u001b[0m \u001b[0mP2\u001b[0m\u001b[0;34m\u001b[0m\u001b[0;34m\u001b[0m\u001b[0m\n\u001b[1;32m     58\u001b[0m         \u001b[0;32mdef\u001b[0m \u001b[0mTF2\u001b[0m\u001b[0;34m(\u001b[0m\u001b[0mfe\u001b[0m\u001b[0;34m,\u001b[0m \u001b[0mfi\u001b[0m\u001b[0;34m,\u001b[0m\u001b[0mXX\u001b[0m\u001b[0;34m)\u001b[0m\u001b[0;34m:\u001b[0m\u001b[0;34m\u001b[0m\u001b[0;34m\u001b[0m\u001b[0m\n\u001b[0;32m---> 59\u001b[0;31m             \u001b[0;32mreturn\u001b[0m \u001b[0mTF_my_templateup\u001b[0m\u001b[0;34m(\u001b[0m\u001b[0mfe\u001b[0m\u001b[0;34m,\u001b[0m \u001b[0mfi\u001b[0m\u001b[0;34m,\u001b[0m\u001b[0mXX\u001b[0m\u001b[0;34m,\u001b[0m \u001b[0;34m*\u001b[0m\u001b[0mpseq_params\u001b[0m\u001b[0;34m(\u001b[0m\u001b[0mparams2\u001b[0m\u001b[0;34m)\u001b[0m\u001b[0;34m)\u001b[0m\u001b[0;34m\u001b[0m\u001b[0;34m\u001b[0m\u001b[0m\n\u001b[0m\u001b[1;32m     60\u001b[0m \u001b[0;34m\u001b[0m\u001b[0m\n\u001b[1;32m     61\u001b[0m     \u001b[0;32mexcept\u001b[0m \u001b[0mIOError\u001b[0m\u001b[0;34m:\u001b[0m\u001b[0;34m\u001b[0m\u001b[0;34m\u001b[0m\u001b[0m\n",
      "\u001b[0;32m/media/mcarlu/DATA/NEURO/June_LETS_GET_SERIOUS/mean_field_adapt/transfer_functions/theoretical_tools.py\u001b[0m in \u001b[0;36mTF_my_templateup\u001b[0;34m(fe, fi, XX, Qe, Te, Ee, Qi, Ti, Ei, Gl, Cm, El, Ntot, pconnec, gei, P0, P1, P2, P3, P4, P5, P6, P7, P8, P9, P10)\u001b[0m\n\u001b[1;32m    135\u001b[0m \u001b[0;34m\u001b[0m\u001b[0m\n\u001b[1;32m    136\u001b[0m     \u001b[0mmuV\u001b[0m\u001b[0;34m,\u001b[0m \u001b[0msV\u001b[0m\u001b[0;34m,\u001b[0m \u001b[0mmuGn\u001b[0m\u001b[0;34m,\u001b[0m \u001b[0mTvN\u001b[0m \u001b[0;34m=\u001b[0m \u001b[0mget_fluct_regime_varsup\u001b[0m\u001b[0;34m(\u001b[0m\u001b[0mfe\u001b[0m\u001b[0;34m,\u001b[0m \u001b[0mfi\u001b[0m\u001b[0;34m,\u001b[0m\u001b[0mXX\u001b[0m\u001b[0;34m,\u001b[0m \u001b[0mQe\u001b[0m\u001b[0;34m,\u001b[0m \u001b[0mTe\u001b[0m\u001b[0;34m,\u001b[0m \u001b[0mEe\u001b[0m\u001b[0;34m,\u001b[0m \u001b[0mQi\u001b[0m\u001b[0;34m,\u001b[0m \u001b[0mTi\u001b[0m\u001b[0;34m,\u001b[0m \u001b[0mEi\u001b[0m\u001b[0;34m,\u001b[0m \u001b[0mGl\u001b[0m\u001b[0;34m,\u001b[0m \u001b[0mCm\u001b[0m\u001b[0;34m,\u001b[0m \u001b[0mEl\u001b[0m\u001b[0;34m,\u001b[0m \u001b[0mNtot\u001b[0m\u001b[0;34m,\u001b[0m \u001b[0mpconnec\u001b[0m\u001b[0;34m,\u001b[0m \u001b[0mgei\u001b[0m\u001b[0;34m,\u001b[0m \u001b[0mP0\u001b[0m\u001b[0;34m)\u001b[0m\u001b[0;31m#, P1, P2, P3, P4, P5, P6, P7, P8, P9, P10)\u001b[0m\u001b[0;34m\u001b[0m\u001b[0;34m\u001b[0m\u001b[0m\n\u001b[0;32m--> 137\u001b[0;31m     \u001b[0mVthre\u001b[0m \u001b[0;34m=\u001b[0m \u001b[0mthreshold_func\u001b[0m\u001b[0;34m(\u001b[0m\u001b[0mmuV\u001b[0m\u001b[0;34m,\u001b[0m \u001b[0msV\u001b[0m\u001b[0;34m,\u001b[0m \u001b[0mTvN\u001b[0m\u001b[0;34m,\u001b[0m \u001b[0mmuGn\u001b[0m\u001b[0;34m,\u001b[0m \u001b[0mP0\u001b[0m\u001b[0;34m,\u001b[0m \u001b[0mP1\u001b[0m\u001b[0;34m,\u001b[0m \u001b[0mP2\u001b[0m\u001b[0;34m,\u001b[0m \u001b[0mP3\u001b[0m\u001b[0;34m,\u001b[0m \u001b[0mP4\u001b[0m\u001b[0;34m,\u001b[0m \u001b[0mP5\u001b[0m\u001b[0;34m,\u001b[0m \u001b[0mP6\u001b[0m\u001b[0;34m,\u001b[0m \u001b[0mP7\u001b[0m\u001b[0;34m,\u001b[0m \u001b[0mP8\u001b[0m\u001b[0;34m,\u001b[0m \u001b[0mP9\u001b[0m\u001b[0;34m,\u001b[0m \u001b[0mP10\u001b[0m\u001b[0;34m)\u001b[0m\u001b[0;34m\u001b[0m\u001b[0;34m\u001b[0m\u001b[0m\n\u001b[0m\u001b[1;32m    138\u001b[0m \u001b[0;34m\u001b[0m\u001b[0m\n\u001b[1;32m    139\u001b[0m \u001b[0;34m\u001b[0m\u001b[0m\n",
      "\u001b[0;32m/media/mcarlu/DATA/NEURO/June_LETS_GET_SERIOUS/mean_field_adapt/transfer_functions/theoretical_tools.py\u001b[0m in \u001b[0;36mthreshold_func\u001b[0;34m(muV, sV, TvN, muGn, P0, P1, P2, P3, P4, P5, P6, P7, P8, P9, P10)\u001b[0m\n\u001b[1;32m     98\u001b[0m         \u001b[0mP6\u001b[0m\u001b[0;34m*\u001b[0m\u001b[0;34m(\u001b[0m\u001b[0;34m(\u001b[0m\u001b[0msV\u001b[0m\u001b[0;34m-\u001b[0m\u001b[0msV0\u001b[0m\u001b[0;34m)\u001b[0m\u001b[0;34m/\u001b[0m\u001b[0mDsV0\u001b[0m\u001b[0;34m)\u001b[0m\u001b[0;34m**\u001b[0m\u001b[0;36m2\u001b[0m\u001b[0;34m+\u001b[0m\u001b[0mP7\u001b[0m\u001b[0;34m*\u001b[0m\u001b[0;34m(\u001b[0m\u001b[0;34m(\u001b[0m\u001b[0mTvN\u001b[0m\u001b[0;34m-\u001b[0m\u001b[0mTvN0\u001b[0m\u001b[0;34m)\u001b[0m\u001b[0;34m/\u001b[0m\u001b[0mDTvN0\u001b[0m\u001b[0;34m)\u001b[0m\u001b[0;34m**\u001b[0m\u001b[0;36m2\u001b[0m\u001b[0;34m+\u001b[0m\u001b[0;31m\\\u001b[0m\u001b[0;34m\u001b[0m\u001b[0;34m\u001b[0m\u001b[0m\n\u001b[1;32m     99\u001b[0m         \u001b[0mP8\u001b[0m\u001b[0;34m*\u001b[0m\u001b[0;34m(\u001b[0m\u001b[0mmuV\u001b[0m\u001b[0;34m-\u001b[0m\u001b[0mmuV0\u001b[0m\u001b[0;34m)\u001b[0m\u001b[0;34m/\u001b[0m\u001b[0mDmuV0\u001b[0m\u001b[0;34m*\u001b[0m\u001b[0;34m(\u001b[0m\u001b[0msV\u001b[0m\u001b[0;34m-\u001b[0m\u001b[0msV0\u001b[0m\u001b[0;34m)\u001b[0m\u001b[0;34m/\u001b[0m\u001b[0mDsV0\u001b[0m\u001b[0;34m+\u001b[0m\u001b[0;31m\\\u001b[0m\u001b[0;34m\u001b[0m\u001b[0;34m\u001b[0m\u001b[0m\n\u001b[0;32m--> 100\u001b[0;31m         \u001b[0mP9\u001b[0m\u001b[0;34m*\u001b[0m\u001b[0;34m(\u001b[0m\u001b[0mmuV\u001b[0m\u001b[0;34m-\u001b[0m\u001b[0mmuV0\u001b[0m\u001b[0;34m)\u001b[0m\u001b[0;34m/\u001b[0m\u001b[0mDmuV0\u001b[0m\u001b[0;34m*\u001b[0m\u001b[0;34m(\u001b[0m\u001b[0mTvN\u001b[0m\u001b[0;34m-\u001b[0m\u001b[0mTvN0\u001b[0m\u001b[0;34m)\u001b[0m\u001b[0;34m/\u001b[0m\u001b[0mDTvN0\u001b[0m\u001b[0;34m+\u001b[0m\u001b[0;31m\\\u001b[0m\u001b[0;34m\u001b[0m\u001b[0;34m\u001b[0m\u001b[0m\n\u001b[0m\u001b[1;32m    101\u001b[0m         \u001b[0mP10\u001b[0m\u001b[0;34m*\u001b[0m\u001b[0;34m(\u001b[0m\u001b[0msV\u001b[0m\u001b[0;34m-\u001b[0m\u001b[0msV0\u001b[0m\u001b[0;34m)\u001b[0m\u001b[0;34m/\u001b[0m\u001b[0mDsV0\u001b[0m\u001b[0;34m*\u001b[0m\u001b[0;34m(\u001b[0m\u001b[0mTvN\u001b[0m\u001b[0;34m-\u001b[0m\u001b[0mTvN0\u001b[0m\u001b[0;34m)\u001b[0m\u001b[0;34m/\u001b[0m\u001b[0mDTvN0\u001b[0m\u001b[0;34m\u001b[0m\u001b[0;34m\u001b[0m\u001b[0m\n\u001b[1;32m    102\u001b[0m \u001b[0;34m\u001b[0m\u001b[0m\n",
      "\u001b[0;31mKeyboardInterrupt\u001b[0m: "
     ]
    }
   ],
   "source": [
    "np.random.seed(10)\n",
    "#x0=np.random.rand(7)*1e-5\n",
    "#x0=np.ones(7)*1e-5\n",
    "#x0=np.random.rand(7)*1e-5\n",
    "x0=np.ones(7)*0.5\n",
    "x0[0]=0.5\n",
    "x0[1]=17\n",
    "x0[6]=x0[0]*100e-12\n",
    "print(x0)\n",
    "time=0\n",
    "t_trace2=[]\n",
    "x_trace2=[]\n",
    "    \n",
    "for i in np.arange(0,10,params[0]):\n",
    "    rk4_withstep(x0,params,time)\n",
    "    time+=params[0]\n",
    "    t_trace2.append(time)\n",
    "    x_trace2.append(x0.copy())\n",
    "     "
   ]
  },
  {
   "cell_type": "code",
   "execution_count": 113,
   "metadata": {},
   "outputs": [
    {
     "name": "stdout",
     "output_type": "stream",
     "text": [
      "[7.71320643e-06 2.07519494e-07 6.33648235e-06 7.48803883e-06\n",
      " 4.98507012e-06 2.24796646e-06 1.98062865e-06]\n"
     ]
    },
    {
     "ename": "KeyboardInterrupt",
     "evalue": "",
     "output_type": "error",
     "traceback": [
      "\u001b[0;31m---------------------------------------------------------------------------\u001b[0m",
      "\u001b[0;31mKeyboardInterrupt\u001b[0m                         Traceback (most recent call last)",
      "\u001b[0;32m<ipython-input-113-e9a6833d987a>\u001b[0m in \u001b[0;36m<module>\u001b[0;34m\u001b[0m\n\u001b[1;32m     13\u001b[0m     \u001b[0;31m#print('\\n','\\n', 't =', i, '\\n')\u001b[0m\u001b[0;34m\u001b[0m\u001b[0;34m\u001b[0m\u001b[0;34m\u001b[0m\u001b[0m\n\u001b[1;32m     14\u001b[0m     \u001b[0;31m#print(' state = ', x0, '\\n')\u001b[0m\u001b[0;34m\u001b[0m\u001b[0;34m\u001b[0m\u001b[0;34m\u001b[0m\u001b[0m\n\u001b[0;32m---> 15\u001b[0;31m     \u001b[0mEuler_method_withstep\u001b[0m\u001b[0;34m(\u001b[0m\u001b[0mx0\u001b[0m\u001b[0;34m,\u001b[0m\u001b[0mparams\u001b[0m\u001b[0;34m,\u001b[0m\u001b[0mtime\u001b[0m\u001b[0;34m)\u001b[0m\u001b[0;34m\u001b[0m\u001b[0;34m\u001b[0m\u001b[0m\n\u001b[0m\u001b[1;32m     16\u001b[0m     \u001b[0mtime\u001b[0m\u001b[0;34m+=\u001b[0m\u001b[0mparams\u001b[0m\u001b[0;34m[\u001b[0m\u001b[0;36m0\u001b[0m\u001b[0;34m]\u001b[0m\u001b[0;34m\u001b[0m\u001b[0;34m\u001b[0m\u001b[0m\n\u001b[1;32m     17\u001b[0m     \u001b[0mt_trace\u001b[0m\u001b[0;34m.\u001b[0m\u001b[0mappend\u001b[0m\u001b[0;34m(\u001b[0m\u001b[0mtime\u001b[0m\u001b[0;34m)\u001b[0m\u001b[0;34m\u001b[0m\u001b[0;34m\u001b[0m\u001b[0m\n",
      "\u001b[0;32m<ipython-input-101-0cf9f4702c80>\u001b[0m in \u001b[0;36mEuler_method_withstep\u001b[0;34m(x0, params, time)\u001b[0m\n\u001b[1;32m     50\u001b[0m \u001b[0;34m\u001b[0m\u001b[0m\n\u001b[1;32m     51\u001b[0m     \u001b[0mp\u001b[0m\u001b[0;34m=\u001b[0m\u001b[0mparams\u001b[0m\u001b[0;34m[\u001b[0m\u001b[0;36m1\u001b[0m\u001b[0;34m]\u001b[0m\u001b[0;34m\u001b[0m\u001b[0;34m\u001b[0m\u001b[0m\n\u001b[0;32m---> 52\u001b[0;31m     \u001b[0mderiv\u001b[0m\u001b[0;34m=\u001b[0m\u001b[0mMeanField_dynamics_manual\u001b[0m\u001b[0;34m(\u001b[0m\u001b[0mx0\u001b[0m\u001b[0;34m,\u001b[0m \u001b[0mtime\u001b[0m\u001b[0;34m)\u001b[0m\u001b[0;34m\u001b[0m\u001b[0;34m\u001b[0m\u001b[0m\n\u001b[0m\u001b[1;32m     53\u001b[0m    \u001b[0;31m# print('deriv = ', deriv)\u001b[0m\u001b[0;34m\u001b[0m\u001b[0;34m\u001b[0m\u001b[0;34m\u001b[0m\u001b[0m\n\u001b[1;32m     54\u001b[0m     \u001b[0;32mfor\u001b[0m \u001b[0mi\u001b[0m \u001b[0;32min\u001b[0m \u001b[0mrange\u001b[0m\u001b[0;34m(\u001b[0m\u001b[0mp\u001b[0m\u001b[0;34m)\u001b[0m\u001b[0;34m:\u001b[0m\u001b[0;34m\u001b[0m\u001b[0;34m\u001b[0m\u001b[0m\n",
      "\u001b[0;32m<ipython-input-108-41457cbc6cae>\u001b[0m in \u001b[0;36mMeanField_dynamics_manual\u001b[0;34m(state, t)\u001b[0m\n\u001b[1;32m     19\u001b[0m     \u001b[0;31m#print('t = ',t,'\\n','input_rate =',input_rate(t,0.005,0.0005,0.002,5))\u001b[0m\u001b[0;34m\u001b[0m\u001b[0;34m\u001b[0m\u001b[0;34m\u001b[0m\u001b[0m\n\u001b[1;32m     20\u001b[0m \u001b[0;34m\u001b[0m\u001b[0m\n\u001b[0;32m---> 21\u001b[0;31m     \u001b[0md_ve\u001b[0m \u001b[0;34m=\u001b[0m \u001b[0;34m(\u001b[0m\u001b[0;34m-\u001b[0m\u001b[0mve\u001b[0m \u001b[0;34m+\u001b[0m \u001b[0mTF1\u001b[0m\u001b[0;34m(\u001b[0m\u001b[0mve_sec\u001b[0m\u001b[0;34m,\u001b[0m \u001b[0mvi\u001b[0m\u001b[0;34m,\u001b[0m\u001b[0mw\u001b[0m\u001b[0;34m)\u001b[0m \u001b[0;34m+\u001b[0m \u001b[0;36m0.5\u001b[0m \u001b[0;34m*\u001b[0m \u001b[0;34m(\u001b[0m\u001b[0mcee\u001b[0m\u001b[0;34m*\u001b[0m\u001b[0msecond_deriv_11\u001b[0m\u001b[0;34m(\u001b[0m\u001b[0mTF1\u001b[0m\u001b[0;34m,\u001b[0m\u001b[0mve_sec\u001b[0m\u001b[0;34m,\u001b[0m\u001b[0mvi\u001b[0m\u001b[0;34m,\u001b[0m\u001b[0mw\u001b[0m\u001b[0;34m,\u001b[0m\u001b[0mh\u001b[0m\u001b[0;34m)\u001b[0m\u001b[0;34m+\u001b[0m\u001b[0mcei\u001b[0m\u001b[0;34m*\u001b[0m\u001b[0msecond_deriv_12\u001b[0m\u001b[0;34m(\u001b[0m\u001b[0mTF1\u001b[0m\u001b[0;34m,\u001b[0m\u001b[0mve_sec\u001b[0m\u001b[0;34m,\u001b[0m\u001b[0mvi\u001b[0m\u001b[0;34m,\u001b[0m\u001b[0mw\u001b[0m\u001b[0;34m,\u001b[0m\u001b[0mh\u001b[0m\u001b[0;34m)\u001b[0m\u001b[0;34m+\u001b[0m\u001b[0mcie\u001b[0m\u001b[0;34m*\u001b[0m\u001b[0msecond_deriv_21\u001b[0m\u001b[0;34m(\u001b[0m\u001b[0mTF1\u001b[0m\u001b[0;34m,\u001b[0m\u001b[0mve_sec\u001b[0m\u001b[0;34m,\u001b[0m\u001b[0mvi\u001b[0m\u001b[0;34m,\u001b[0m\u001b[0mw\u001b[0m\u001b[0;34m,\u001b[0m\u001b[0mh\u001b[0m\u001b[0;34m)\u001b[0m\u001b[0;34m+\u001b[0m\u001b[0mcii\u001b[0m\u001b[0;34m*\u001b[0m\u001b[0msecond_deriv_22\u001b[0m\u001b[0;34m(\u001b[0m\u001b[0mTF1\u001b[0m\u001b[0;34m,\u001b[0m\u001b[0mve_sec\u001b[0m\u001b[0;34m,\u001b[0m\u001b[0mvi\u001b[0m\u001b[0;34m,\u001b[0m\u001b[0mw\u001b[0m\u001b[0;34m,\u001b[0m\u001b[0mh\u001b[0m\u001b[0;34m)\u001b[0m\u001b[0;34m)\u001b[0m\u001b[0;34m)\u001b[0m\u001b[0;34m/\u001b[0m\u001b[0mT\u001b[0m\u001b[0;34m\u001b[0m\u001b[0;34m\u001b[0m\u001b[0m\n\u001b[0m\u001b[1;32m     22\u001b[0m     \u001b[0mderiv\u001b[0m\u001b[0;34m.\u001b[0m\u001b[0mappend\u001b[0m\u001b[0;34m(\u001b[0m\u001b[0md_ve\u001b[0m\u001b[0;34m)\u001b[0m\u001b[0;34m\u001b[0m\u001b[0;34m\u001b[0m\u001b[0m\n\u001b[1;32m     23\u001b[0m     \u001b[0;31m#print('\\n','variables = ',ve_sec,vi,cee,cei,cie,cii,'\\n', 'dve = ', d_ve)\u001b[0m\u001b[0;34m\u001b[0m\u001b[0;34m\u001b[0m\u001b[0;34m\u001b[0m\u001b[0m\n",
      "\u001b[0;32m<ipython-input-31-0c392008df05>\u001b[0m in \u001b[0;36msecond_deriv_22\u001b[0;34m(funct, ve, vi, w, h)\u001b[0m\n\u001b[1;32m     23\u001b[0m \u001b[0;34m\u001b[0m\u001b[0m\n\u001b[1;32m     24\u001b[0m \u001b[0;32mdef\u001b[0m \u001b[0msecond_deriv_22\u001b[0m\u001b[0;34m(\u001b[0m\u001b[0mfunct\u001b[0m\u001b[0;34m,\u001b[0m \u001b[0mve\u001b[0m\u001b[0;34m,\u001b[0m\u001b[0mvi\u001b[0m\u001b[0;34m,\u001b[0m\u001b[0mw\u001b[0m\u001b[0;34m,\u001b[0m \u001b[0mh\u001b[0m\u001b[0;34m)\u001b[0m\u001b[0;34m:\u001b[0m\u001b[0;34m\u001b[0m\u001b[0;34m\u001b[0m\u001b[0m\n\u001b[0;32m---> 25\u001b[0;31m     \u001b[0mderiv2\u001b[0m \u001b[0;34m=\u001b[0m \u001b[0;34m(\u001b[0m\u001b[0mdiscrete_deriv_2\u001b[0m\u001b[0;34m(\u001b[0m\u001b[0mfunct\u001b[0m\u001b[0;34m,\u001b[0m\u001b[0mve\u001b[0m\u001b[0;34m,\u001b[0m\u001b[0mvi\u001b[0m\u001b[0;34m+\u001b[0m\u001b[0;36m0.5\u001b[0m\u001b[0;34m*\u001b[0m\u001b[0mh\u001b[0m\u001b[0;34m,\u001b[0m\u001b[0mw\u001b[0m\u001b[0;34m,\u001b[0m\u001b[0mh\u001b[0m\u001b[0;34m)\u001b[0m\u001b[0;34m-\u001b[0m\u001b[0mdiscrete_deriv_2\u001b[0m\u001b[0;34m(\u001b[0m\u001b[0mfunct\u001b[0m\u001b[0;34m,\u001b[0m\u001b[0mve\u001b[0m\u001b[0;34m,\u001b[0m\u001b[0mvi\u001b[0m\u001b[0;34m-\u001b[0m\u001b[0;36m0.5\u001b[0m\u001b[0;34m*\u001b[0m\u001b[0mh\u001b[0m\u001b[0;34m,\u001b[0m\u001b[0mw\u001b[0m\u001b[0;34m,\u001b[0m\u001b[0mh\u001b[0m\u001b[0;34m)\u001b[0m\u001b[0;34m)\u001b[0m\u001b[0;34m/\u001b[0m\u001b[0mh\u001b[0m\u001b[0;34m\u001b[0m\u001b[0;34m\u001b[0m\u001b[0m\n\u001b[0m\u001b[1;32m     26\u001b[0m     \u001b[0;32mreturn\u001b[0m \u001b[0mderiv2\u001b[0m\u001b[0;34m\u001b[0m\u001b[0;34m\u001b[0m\u001b[0m\n\u001b[1;32m     27\u001b[0m \u001b[0;34m\u001b[0m\u001b[0m\n",
      "\u001b[0;32m<ipython-input-31-0c392008df05>\u001b[0m in \u001b[0;36mdiscrete_deriv_2\u001b[0;34m(funct, ve, vi, w, h)\u001b[0m\n\u001b[1;32m      6\u001b[0m \u001b[0;32mdef\u001b[0m \u001b[0mdiscrete_deriv_2\u001b[0m\u001b[0;34m(\u001b[0m\u001b[0mfunct\u001b[0m\u001b[0;34m,\u001b[0m \u001b[0mve\u001b[0m\u001b[0;34m,\u001b[0m \u001b[0mvi\u001b[0m\u001b[0;34m,\u001b[0m \u001b[0mw\u001b[0m \u001b[0;34m,\u001b[0m \u001b[0mh\u001b[0m\u001b[0;34m)\u001b[0m\u001b[0;34m:\u001b[0m\u001b[0;34m\u001b[0m\u001b[0;34m\u001b[0m\u001b[0m\n\u001b[1;32m      7\u001b[0m     \u001b[0;31m#ve, vi = state\u001b[0m\u001b[0;34m\u001b[0m\u001b[0;34m\u001b[0m\u001b[0;34m\u001b[0m\u001b[0m\n\u001b[0;32m----> 8\u001b[0;31m     \u001b[0mderiv\u001b[0m \u001b[0;34m=\u001b[0m \u001b[0;34m(\u001b[0m\u001b[0mfunct\u001b[0m\u001b[0;34m(\u001b[0m\u001b[0mve\u001b[0m\u001b[0;34m,\u001b[0m\u001b[0mvi\u001b[0m\u001b[0;34m+\u001b[0m\u001b[0;36m0.5\u001b[0m\u001b[0;34m*\u001b[0m\u001b[0mh\u001b[0m\u001b[0;34m,\u001b[0m\u001b[0mw\u001b[0m\u001b[0;34m)\u001b[0m\u001b[0;34m-\u001b[0m \u001b[0mfunct\u001b[0m\u001b[0;34m(\u001b[0m\u001b[0mve\u001b[0m\u001b[0;34m,\u001b[0m\u001b[0mvi\u001b[0m\u001b[0;34m-\u001b[0m\u001b[0;36m0.5\u001b[0m\u001b[0;34m*\u001b[0m\u001b[0mh\u001b[0m\u001b[0;34m,\u001b[0m\u001b[0mw\u001b[0m\u001b[0;34m)\u001b[0m\u001b[0;34m)\u001b[0m\u001b[0;34m/\u001b[0m\u001b[0mh\u001b[0m\u001b[0;34m\u001b[0m\u001b[0;34m\u001b[0m\u001b[0m\n\u001b[0m\u001b[1;32m      9\u001b[0m     \u001b[0;32mreturn\u001b[0m \u001b[0mderiv\u001b[0m\u001b[0;34m\u001b[0m\u001b[0;34m\u001b[0m\u001b[0m\n\u001b[1;32m     10\u001b[0m \u001b[0;34m\u001b[0m\u001b[0m\n",
      "\u001b[0;32m/media/mcarlu/DATA/NEURO/Matteo_code/mean_field_adapt/mean_field_adapt/transfer_functions/load_config.py\u001b[0m in \u001b[0;36mTF1\u001b[0;34m(fe, fi, XX)\u001b[0m\n\u001b[1;32m     32\u001b[0m         \u001b[0mprint\u001b[0m\u001b[0;34m(\u001b[0m\u001b[0;34m\"paramsAAA\"\u001b[0m\u001b[0;34m,\u001b[0m\u001b[0mP1\u001b[0m\u001b[0;34m)\u001b[0m\u001b[0;34m\u001b[0m\u001b[0;34m\u001b[0m\u001b[0m\n\u001b[1;32m     33\u001b[0m         \u001b[0;32mdef\u001b[0m \u001b[0mTF1\u001b[0m\u001b[0;34m(\u001b[0m\u001b[0mfe\u001b[0m\u001b[0;34m,\u001b[0m \u001b[0mfi\u001b[0m\u001b[0;34m,\u001b[0m\u001b[0mXX\u001b[0m\u001b[0;34m)\u001b[0m\u001b[0;34m:\u001b[0m\u001b[0;34m\u001b[0m\u001b[0;34m\u001b[0m\u001b[0m\n\u001b[0;32m---> 34\u001b[0;31m             \u001b[0;32mreturn\u001b[0m \u001b[0mTF_my_templateup\u001b[0m\u001b[0;34m(\u001b[0m\u001b[0mfe\u001b[0m\u001b[0;34m,\u001b[0m \u001b[0mfi\u001b[0m\u001b[0;34m,\u001b[0m\u001b[0mXX\u001b[0m\u001b[0;34m,\u001b[0m \u001b[0;34m*\u001b[0m\u001b[0mpseq_params\u001b[0m\u001b[0;34m(\u001b[0m\u001b[0mparams1\u001b[0m\u001b[0;34m)\u001b[0m\u001b[0;34m)\u001b[0m\u001b[0;34m\u001b[0m\u001b[0;34m\u001b[0m\u001b[0m\n\u001b[0m\u001b[1;32m     35\u001b[0m \u001b[0;34m\u001b[0m\u001b[0m\n\u001b[1;32m     36\u001b[0m \u001b[0;34m\u001b[0m\u001b[0m\n",
      "\u001b[0;32m/media/mcarlu/DATA/NEURO/Matteo_code/mean_field_adapt/mean_field_adapt/transfer_functions/theoretical_tools.py\u001b[0m in \u001b[0;36mpseq_params\u001b[0;34m(params)\u001b[0m\n\u001b[1;32m     14\u001b[0m     \u001b[0;32mfor\u001b[0m \u001b[0mkey\u001b[0m\u001b[0;34m,\u001b[0m \u001b[0mdval\u001b[0m \u001b[0;32min\u001b[0m \u001b[0mzip\u001b[0m\u001b[0;34m(\u001b[0m\u001b[0;34m[\u001b[0m\u001b[0;34m'Ntot'\u001b[0m\u001b[0;34m,\u001b[0m \u001b[0;34m'pconnec'\u001b[0m\u001b[0;34m,\u001b[0m \u001b[0;34m'gei'\u001b[0m\u001b[0;34m]\u001b[0m\u001b[0;34m,\u001b[0m \u001b[0;34m[\u001b[0m\u001b[0;36m1\u001b[0m\u001b[0;34m,\u001b[0m \u001b[0;36m2.\u001b[0m\u001b[0;34m,\u001b[0m \u001b[0;36m0.5\u001b[0m\u001b[0;34m]\u001b[0m\u001b[0;34m)\u001b[0m\u001b[0;34m:\u001b[0m\u001b[0;34m\u001b[0m\u001b[0;34m\u001b[0m\u001b[0m\n\u001b[1;32m     15\u001b[0m         \u001b[0;32mif\u001b[0m \u001b[0mkey\u001b[0m \u001b[0;32min\u001b[0m \u001b[0mparams\u001b[0m\u001b[0;34m.\u001b[0m\u001b[0mkeys\u001b[0m\u001b[0;34m(\u001b[0m\u001b[0;34m)\u001b[0m\u001b[0;34m:\u001b[0m\u001b[0;34m\u001b[0m\u001b[0;34m\u001b[0m\u001b[0m\n\u001b[0;32m---> 16\u001b[0;31m             \u001b[0mexec\u001b[0m\u001b[0;34m(\u001b[0m\u001b[0mkey\u001b[0m\u001b[0;34m+\u001b[0m\u001b[0;34m' = params[key]'\u001b[0m\u001b[0;34m)\u001b[0m\u001b[0;34m\u001b[0m\u001b[0;34m\u001b[0m\u001b[0m\n\u001b[0m\u001b[1;32m     17\u001b[0m             \u001b[0;31m#print(key, params[key])\u001b[0m\u001b[0;34m\u001b[0m\u001b[0;34m\u001b[0m\u001b[0;34m\u001b[0m\u001b[0m\n\u001b[1;32m     18\u001b[0m         \u001b[0;32melse\u001b[0m\u001b[0;34m:\u001b[0m \u001b[0;31m# default value\u001b[0m\u001b[0;34m\u001b[0m\u001b[0;34m\u001b[0m\u001b[0m\n",
      "\u001b[0;32m/media/mcarlu/DATA/NEURO/Matteo_code/mean_field_adapt/mean_field_adapt/transfer_functions/theoretical_tools.py\u001b[0m in \u001b[0;36m<module>\u001b[0;34m\u001b[0m\n",
      "\u001b[0;31mKeyboardInterrupt\u001b[0m: "
     ]
    }
   ],
   "source": [
    "np.random.seed(10)\n",
    "x0=np.random.rand(7)*1e-5\n",
    "#x0=np.ones(7)*1e-5\n",
    "#x0[0]=9.\n",
    "#x0[1]=23\n",
    "#x0[6]=x0[0]*60e-12\n",
    "print(x0)\n",
    "time=0\n",
    "t_trace=[]\n",
    "x_trace=[]\n",
    "    \n",
    "for i in np.arange(0,5,params[0]):\n",
    "    #print('\\n','\\n', 't =', i, '\\n')\n",
    "    #print(' state = ', x0, '\\n')\n",
    "    Euler_method_withstep(x0,params,time)\n",
    "    time+=params[0]\n",
    "    t_trace.append(time)\n",
    "    x_trace.append(x0.copy())"
   ]
  },
  {
   "cell_type": "code",
   "execution_count": 13,
   "metadata": {},
   "outputs": [
    {
     "data": {
      "text/plain": [
       "85.71428571428571"
      ]
     },
     "execution_count": 13,
     "metadata": {},
     "output_type": "execute_result"
    }
   ],
   "source": [
    "TF[0](5,2,1e-8)"
   ]
  },
  {
   "cell_type": "code",
   "execution_count": 28,
   "metadata": {},
   "outputs": [],
   "source": [
    "x_transp2=np.transpose(x_trace2)\n",
    "ve2=x_transp2[0]#[1000:] # remove first 10000 elements\n",
    "vi2=x_transp2[1]#[1000:]\n",
    "cee2=np.sqrt(x_transp2[2])#[1000:]\n",
    "cei2=x_transp2[3]#[1000:]\n",
    "cie2=x_transp2[4]#[1000:]\n",
    "cii2=np.sqrt(x_transp2[5])#[1000:]\n",
    "w2=x_transp2[6]"
   ]
  },
  {
   "cell_type": "code",
   "execution_count": 111,
   "metadata": {},
   "outputs": [
    {
     "name": "stderr",
     "output_type": "stream",
     "text": [
      "/home/mcarlu/anaconda3/lib/python3.7/site-packages/ipykernel_launcher.py:7: RuntimeWarning: invalid value encountered in sqrt\n",
      "  import sys\n"
     ]
    }
   ],
   "source": [
    "x_transp=np.transpose(x_trace)\n",
    "ve=x_transp[0]#[1000:] # remove first 10000 elements\n",
    "vi=x_transp[1]#[1000:]\n",
    "cee=np.sqrt(x_transp[2])#[1000:]\n",
    "cei=x_transp[3]#[1000:]\n",
    "cie=x_transp[4]#[1000:]\n",
    "cii=np.sqrt(x_transp[5])#[1000:]\n",
    "w=x_transp[6]"
   ]
  },
  {
   "cell_type": "code",
   "execution_count": 112,
   "metadata": {},
   "outputs": [
    {
     "data": {
      "image/png": "[encoded data removed]",
      "text/plain": [
       "<Figure size 864x504 with 1 Axes>"
      ]
     },
     "metadata": {
      "needs_background": "light"
     },
     "output_type": "display_data"
    }
   ],
   "source": [
    "plt.figure(figsize=(12, 7))\n",
    "plt.plot(t_trace, ve, color=\"green\", label=\"excitory firing rate\")\n",
    "plt.plot(t_trace, vi, color=\"red\", label=\"inhibitory firing rate\")\n",
    "#plt.plot(t_trace, cee, color=\"blue\", label=\"excitory cee\")\n",
    "#plt.plot(t_trace, cii, color=\"purple\", label=\"inhibitory cii\")\n",
    "#plt.plot(t_trace, cei, color=\"yellow\", label=\"cei\")\n",
    "#plt.plot(t_trace, cie, color=\"orange\", label=\"cie\")\n",
    "#plt.plot(t_trace,w2*1e5,color=\"black\",label=\"w\")\n",
    "#plt.plot(t_trace2, ve2, color=\"green\", ls=\"--\")\n",
    "#plt.plot(t_trace2, vi2, color=\"red\", ls=\"--\")\n",
    "#plt.plot(t_trace,test_input, color=\"black\", linestyle=\":\", label=\"forcing\")\n",
    "\n",
    "\n",
    "\n",
    "plt.xlabel(\"Time\")\n",
    "plt.grid(True)\n",
    "plt.ylabel(\"Voltage\")\n",
    "plt.legend()\n",
    "plt.title(\"Mean-Field Dynamics\")\n",
    "#plt.ylim(0,20)\n",
    "#plt.xlim(0.5,0.75)\n",
    "plt.show()"
   ]
  },
  {
   "cell_type": "code",
   "execution_count": 149,
   "metadata": {},
   "outputs": [],
   "source": [
    "from scipy.integrate import odeint\n",
    "t = np.arange(0, 10, 1e-6)"
   ]
  },
  {
   "cell_type": "code",
   "execution_count": 150,
   "metadata": {},
   "outputs": [
    {
     "name": "stdout",
     "output_type": "stream",
     "text": [
      "[5.0e-01 1.7e+01 5.0e-01 5.0e-01 5.0e-01 5.0e-01 5.0e-11]\n"
     ]
    }
   ],
   "source": [
    "np.random.seed(20)\n",
    "#init_state = np.random.rand(7)*1e-5\n",
    "init_state = np.ones(7)*0.5\n",
    "init_state[0]=0.5\n",
    "init_state[1]=17.\n",
    "init_state[6]=init_state[0]*100e-12\n",
    "#init_state[3]=init_state[4]\n",
    "print(init_state)\n",
    "state2 = odeint(MeanField_Split, init_state, t)"
   ]
  },
  {
   "cell_type": "code",
   "execution_count": 53,
   "metadata": {},
   "outputs": [
    {
     "name": "stdout",
     "output_type": "stream",
     "text": [
      "[[5.00000000e-01 1.70000000e+01 5.00000000e-01 ... 5.00000000e-01\n",
      "  5.00000000e-01 5.00000000e-11]\n",
      " [5.08811563e-01 1.68970686e+01 5.04528173e-01 ... 4.51826139e-01\n",
      "  1.71639604e+00 5.00000204e-11]\n",
      " [5.21520286e-01 1.68051505e+01 5.11672895e-01 ... 3.91869409e-01\n",
      "  2.74895793e+00 5.00000946e-11]\n",
      " ...\n",
      " [0.00000000e+00 0.00000000e+00 0.00000000e+00 ... 0.00000000e+00\n",
      "  0.00000000e+00 0.00000000e+00]\n",
      " [0.00000000e+00 0.00000000e+00 0.00000000e+00 ... 0.00000000e+00\n",
      "  0.00000000e+00 0.00000000e+00]\n",
      " [0.00000000e+00 0.00000000e+00 0.00000000e+00 ... 0.00000000e+00\n",
      "  0.00000000e+00 0.00000000e+00]]\n",
      "[0.0000e+00 1.0000e-04 2.0000e-04 ... 4.9997e+00 4.9998e+00 4.9999e+00]\n"
     ]
    }
   ],
   "source": [
    "print(state2)\n",
    "print(t)\n",
    "X_final=state2[-1]"
   ]
  },
  {
   "cell_type": "code",
   "execution_count": 155,
   "metadata": {},
   "outputs": [
    {
     "data": {
      "image/png": "[encoded data removed]",
      "text/plain": [
       "<Figure size 864x504 with 1 Axes>"
      ]
     },
     "metadata": {
      "needs_background": "light"
     },
     "output_type": "display_data"
    }
   ],
   "source": [
    "plt.figure(figsize=(12, 7))\n",
    "plt.plot(t, state2[:, 0], color=\"green\", label=\"excitory firing rate\")\n",
    "plt.plot(t, state2[:, 1], color=\"red\", label=\"inhibitory firing rate\")\n",
    "#plt.plot(t_trace, cee, color=\"blue\", label=\"excitory cee\")\n",
    "#plt.plot(t_trace, cii, color=\"purple\", label=\"inhibitory cii\")\n",
    "#plt.plot(t_trace, cei, color=\"yellow\", label=\"cei\")\n",
    "#plt.plot(t_trace, cie, color=\"orange\", label=\"cie\")\n",
    "#plt.plot(t_trace2,w2*1e5,color=\"black\",label=\"w\")\n",
    "#plt.plot(t_trace2, ve2, color=\"green\", ls=\"--\")\n",
    "#plt.plot(t_trace2, vi2, color=\"red\", ls=\"--\")\n",
    "#plt.plot(t,test_input, color=\"black\", linestyle=\":\", label=\"forcing\")\n",
    "\n",
    "\n",
    "\n",
    "plt.xlabel(\"Time\")\n",
    "plt.grid(True)\n",
    "plt.ylabel(\"Voltage\")\n",
    "plt.legend()\n",
    "plt.title(\"Mean-Field Dynamics\")\n",
    "#plt.ylim(0,20)\n",
    "plt.xlim(1.9,1.95)\n",
    "plt.show()"
   ]
  },
  {
   "cell_type": "code",
   "execution_count": 145,
   "metadata": {},
   "outputs": [
    {
     "name": "stdout",
     "output_type": "stream",
     "text": [
      "1.9233\n",
      "[2.06012515e+01 1.74070478e+02 2.35167871e+02 6.30159416e+01\n",
      " 6.30159416e+01 6.35998521e+01 2.44932309e-10]\n",
      "[2.11732371e+01 1.74156371e+02 2.64285014e+02 6.83634531e+01\n",
      " 6.83634531e+01 6.48606858e+01 2.45018944e-10]\n",
      "[0. 0. 0. 0. 0. 0. 0.]\n"
     ]
    },
    {
     "data": {
      "text/plain": [
       "89.42025681248161"
      ]
     },
     "execution_count": 145,
     "metadata": {},
     "output_type": "execute_result"
    }
   ],
   "source": [
    "print(t[38466])\n",
    "print(state2[38465])\n",
    "print(state2[38466])\n",
    "print(state2[38467])\n",
    "#test=state2[:][1]\n",
    "#test2=test[test==max(test)]\n",
    "test_input[38466]\n"
   ]
  },
  {
   "cell_type": "code",
   "execution_count": 119,
   "metadata": {},
   "outputs": [
    {
     "data": {
      "text/plain": [
       "196.44444442605695"
      ]
     },
     "execution_count": 119,
     "metadata": {},
     "output_type": "execute_result"
    }
   ],
   "source": [
    "TF[0](400,400,2.4064069e-10)"
   ]
  },
  {
   "cell_type": "code",
   "execution_count": 136,
   "metadata": {},
   "outputs": [
    {
     "data": {
      "image/png": "[encoded data removed]",
      "text/plain": [
       "<Figure size 864x504 with 1 Axes>"
      ]
     },
     "metadata": {
      "needs_background": "light"
     },
     "output_type": "display_data"
    }
   ],
   "source": [
    "\n",
    "def gaussian(x, mu, sig):\n",
    "    return np.exp(-np.power(x - mu, 2.) / (2 * np.power(sig, 2.)))\n",
    "\n",
    "x0_values = np.linspace(6, 12, 1000)\n",
    "x1_values = np.linspace(0, 3, 1000)\n",
    "X_final=state[-1]\n",
    "X_Matteo=[9.83565096e-01, 8.03686316e+00, 7.90575731e-02, 1.58930985e-01,\n",
    "       4.38319087e-01, 5.90139017e-11, 4.54486039e-32]\n",
    "\n",
    "plt.figure(figsize=(12, 7))\n",
    "plt.plot(x1_values, gaussian(x1_values, X_final[0], np.sqrt(X_final[2])),color=\"green\", label=\"excitory firing rate\")\n",
    "plt.plot(x0_values, gaussian(x0_values, X_final[1], np.sqrt(X_final[3])),color=\"red\", label=\"inhibitory firing rate\")\n",
    "plt.plot(x1_values, gaussian(x1_values, X_Matteo[0], np.sqrt(X_Matteo[2])),ls=\"--\",color=\"green\", label=\"excitory firing rate\")\n",
    "plt.plot(x0_values, gaussian(x0_values, X_final[1], np.sqrt(X_Matteo[4])),ls=\"--\",color=\"red\", label=\"inhibitory firing rate\")\n",
    "plt.show()"
   ]
  },
  {
   "cell_type": "raw",
   "metadata": {},
   "source": [
    "TF1=TF[0]\n",
    "TF2=TF[1]"
   ]
  },
  {
   "cell_type": "code",
   "execution_count": 31,
   "metadata": {},
   "outputs": [],
   "source": [
    "def discrete_deriv_1(funct, ve, vi, w, h):\n",
    "    #ve, vi = state\n",
    "    deriv = (funct(ve+0.5*h,vi,w)- funct(ve-0.5*h,vi,w))/h\n",
    "    return deriv\n",
    "\n",
    "def discrete_deriv_2(funct, ve, vi, w , h):\n",
    "    #ve, vi = state\n",
    "    deriv = (funct(ve,vi+0.5*h,w)- funct(ve,vi-0.5*h,w))/h\n",
    "    return deriv\n",
    "\n",
    "def second_deriv_12(funct, ve,vi,w, h):\n",
    "    deriv2 = (discrete_deriv_1(funct,ve,vi+0.5*h,w,h)-discrete_deriv_1(funct,ve,vi-0.5*h,w,h))/h\n",
    "    return deriv2\n",
    "\n",
    "def second_deriv_21(funct, ve,vi,w, h):\n",
    "    deriv2 = (discrete_deriv_2(funct,ve+0.5*h,vi,w,h)-discrete_deriv_2(funct,ve-0.5*h,vi,w,h))/h\n",
    "    return deriv2\n",
    "\n",
    "def second_deriv_11(funct, ve,vi,w, h):\n",
    "    deriv2 = (discrete_deriv_1(funct,ve+0.5*h,vi,w,h)-discrete_deriv_1(funct,ve-0.5*h,vi,w,h))/h\n",
    "    return deriv2\n",
    "\n",
    "\n",
    "def second_deriv_22(funct, ve,vi,w, h):\n",
    "    deriv2 = (discrete_deriv_2(funct,ve,vi+0.5*h,w,h)-discrete_deriv_2(funct,ve,vi-0.5*h,w,h))/h\n",
    "    return deriv2\n",
    "\n",
    "\n"
   ]
  },
  {
   "cell_type": "code",
   "execution_count": 108,
   "metadata": {},
   "outputs": [],
   "source": [
    "def MeanField_dynamics_manual(state,t):\n",
    "        \n",
    "    ve=state[0]\n",
    "    vi=state[1]\n",
    "    cee=state[2]\n",
    "    cii=state[3]\n",
    "    cei=state[4]\n",
    "    cie=state[5]\n",
    "    w=state[6]\n",
    "    \n",
    "    deriv=[]\n",
    "    ve_sec=ve+2.5\n",
    "    \n",
    "   \n",
    "    #print('TF1 before input = ', TF1(ve_sec,vi),'\\n')\n",
    "    #d_ve = params[0]*(-ve + TF1(ve_sec, vi) + 0.5 * (cee*second_deriv_11(TF1,ve_sec,vi,h)+cei*second_deriv_12(TF1,ve_sec,vi,h)+cie*second_deriv_21(TF1,ve_sec,vi,h)+cii*second_deriv_22(TF1,ve_sec,vi,h)))/T\n",
    "    #print('dve before input = ',d_ve,'\\n')\n",
    "    \n",
    "    #print('t = ',t,'\\n','input_rate =',input_rate(t,0.005,0.0005,0.002,5))\n",
    "    \n",
    "    d_ve = (-ve + TF1(ve_sec, vi,w) + 0.5 * (cee*second_deriv_11(TF1,ve_sec,vi,w,h)+cei*second_deriv_12(TF1,ve_sec,vi,w,h)+cie*second_deriv_21(TF1,ve_sec,vi,w,h)+cii*second_deriv_22(TF1,ve_sec,vi,w,h)))/T\n",
    "    deriv.append(d_ve)\n",
    "    #print('\\n','variables = ',ve_sec,vi,cee,cei,cie,cii,'\\n', 'dve = ', d_ve)\n",
    "    d_vi = (-vi + TF2(ve_sec, vi,0) + 0.5 * (cee*second_deriv_11(TF2,ve_sec,vi,0,h)+cei*second_deriv_12(TF2,ve_sec,vi,0,h)+cie*second_deriv_21(TF2,ve_sec,vi,0,h)+cii*second_deriv_22(TF2,ve_sec,vi,0,h)))/T\n",
    "    deriv.append(d_vi)\n",
    "    d_cee = ((TF1(ve_sec,vi,w)*(1/T-TF1(ve_sec,vi,w)))/8000 + (TF1(ve_sec,vi,w)-ve)**2+2*(cee*discrete_deriv_1(TF1,ve_sec,vi,w,h)+cei*discrete_deriv_2(TF1,ve_sec,vi,w,h)) - 2*cee)/T\n",
    "    deriv.append(d_cee)\n",
    "    d_cii = ((TF2(ve_sec,vi,w)*(1/T-TF2(ve_sec,vi,0)))/2000+ (TF2(ve_sec,vi,0)-vi)**2+2*(cie*discrete_deriv_1(TF2,ve_sec,vi,0,h)+cii*discrete_deriv_2(TF2,ve_sec,vi,0,h)) - 2*cii)/T\n",
    "    deriv.append(d_cii)\n",
    "    d_cei = ((TF1(ve_sec,vi,w)-ve)*(TF2(ve_sec,vi,0)-vi)+cie*discrete_deriv_1(TF1,ve_sec,vi,w,h)+cii*discrete_deriv_2(TF1,ve_sec,vi,w,h)+cee*discrete_deriv_1(TF2,ve_sec,vi,0,h)+cei*discrete_deriv_2(TF2,ve_sec,vi,0,h) - 2*cei)/T\n",
    "    deriv.append(d_cei)\n",
    "    d_cie = ((TF1(ve_sec,vi,w)-ve)*(TF2(ve_sec,vi,0)-vi)+cie*discrete_deriv_1(TF1,ve_sec,vi,w,h)+cii*discrete_deriv_2(TF1,ve_sec,vi,w,h)+cee*discrete_deriv_1(TF2,ve_sec,vi,0,h)+cei*discrete_deriv_2(TF2,ve_sec,vi,0,h) - 2*cie)/T\n",
    "    deriv.append(d_cie)\n",
    "    dw=-w/1.+60e-12*ve#+a[i]*(mu[i](*vsec_vec,params)-El[i]))\n",
    "    deriv.append(dw)\n",
    "    \n",
    "    return deriv"
   ]
  },
  {
   "cell_type": "code",
   "execution_count": 60,
   "metadata": {},
   "outputs": [],
   "source": [
    "TF1_test=np.zeros((201,201))\n",
    "TF2_test=np.zeros((201,201))\n",
    "w0=100e-12\n",
    "\n",
    "for ve in np.linspace(0,200,401):\n",
    "    for vi in np.linspace(0,200,201):    \n",
    "        \n",
    "        TF1_test[int(ve)][int(vi)]=TF[0](ve/10,vi/10,w0)\n",
    "        TF2_test[int(ve)][int(vi)]=TF[1](ve/10,vi/10,w0)\n",
    "      \n",
    "################ Here ve on the y axis !!"
   ]
  },
  {
   "cell_type": "code",
   "execution_count": 22,
   "metadata": {},
   "outputs": [
    {
     "data": {
      "text/plain": [
       "<matplotlib.colorbar.Colorbar at 0x7f5a388bfdd8>"
      ]
     },
     "execution_count": 22,
     "metadata": {},
     "output_type": "execute_result"
    },
    {
     "data": {
      "image/png": "[encoded data removed]",
      "text/plain": [
       "<Figure size 1440x864 with 4 Axes>"
      ]
     },
     "metadata": {
      "needs_background": "light"
     },
     "output_type": "display_data"
    }
   ],
   "source": [
    "fig2=plt.figure(figsize=(20,12))\n",
    "ax21=fig2.add_subplot(221)\n",
    "ax22=fig2.add_subplot(222)\n",
    "\n",
    "\n",
    "\n",
    "#heatmap = np.array(firingrates_MF_exc).reshape(len(fetrues_list), len(finhibs_list))\n",
    "\n",
    "im21=ax21.imshow(TF1_test, cmap='hot', interpolation='nearest',vmin=0,vmax=140)\n",
    "#ax.set_yticklabels(fetrues_list)\n",
    "ax21.set_ylabel(\"Excitatory Frequencies\")\n",
    "#ax.set_xticklabels(finhibs_list)\n",
    "ax21.invert_yaxis()\n",
    "ax21.set_xlabel(\"Inhibitory Frequencies\")\n",
    "ax21.set_title(\"Average number of spikes per burst\")\n",
    "fig2.colorbar(im21, ax=ax21)\n",
    "\n",
    "im22=ax22.imshow(TF2_test, cmap='hot', interpolation='nearest',vmin=0,vmax=140)\n",
    "#ax.set_yticklabels(fetrues_list)\n",
    "ax22.set_ylabel(\"Excitatory Frequencies\")\n",
    "#ax.set_xticklabels(finhibs_list)\n",
    "ax22.invert_yaxis()\n",
    "ax22.set_xlabel(\"Inhibitory Frequencies\")\n",
    "ax22.set_title(\"Stdev number of spikes per burst\")\n",
    "fig2.colorbar(im22,ax=ax22)"
   ]
  },
  {
   "cell_type": "code",
   "execution_count": 38,
   "metadata": {},
   "outputs": [
    {
     "name": "stdout",
     "output_type": "stream",
     "text": [
      "39.45741167534905 17.299808648383266\n"
     ]
    }
   ],
   "source": [
    "print(TF1(7.5,2.5,w0),TF2(5.2,2.5,w0))"
   ]
  },
  {
   "cell_type": "markdown",
   "metadata": {},
   "source": [
    "10 time units from Matteo's code :\n",
    "\n",
    "9.83565096e-01, 8.03686316e+00, 7.90575731e-02, 1.58930985e-01,\n",
    "       4.38319087e-01, 5.90139017e-11, 4.54486039e-32\n",
    "    \n",
    "ve,vi,cee,cei,cii,w,?"
   ]
  },
  {
   "cell_type": "code",
   "execution_count": 38,
   "metadata": {},
   "outputs": [],
   "source": [
    "test_input=[]\n",
    "for i in t:\n",
    "   # print(i), print (input_rate(i))\n",
    "    test_input.append(input_rate(i, 2., 0.1, 0.1, 120, 1))"
   ]
  },
  {
   "cell_type": "code",
   "execution_count": 75,
   "metadata": {},
   "outputs": [],
   "source": [
    "def MeanField_Opt(x0,t):\n",
    "    #print(' t = ',t)\n",
    "    tstep=params[0]\n",
    "    tot_numb=params[1]\n",
    "    tauw=params[2]\n",
    "    a=params[3]\n",
    "    b=params[4]\n",
    "    El=params[5]\n",
    "    N=params[6]\n",
    "    numb_var=params[7]\n",
    "    numb_adapt=params[8]\n",
    "    F=params[9]\n",
    "    h=params[10]\n",
    "    T=params[11]\n",
    "    mu=params[20]\n",
    "    ext_drive=params[21]\n",
    "   # vsec_vec=[]\n",
    "\n",
    "    deriv=np.zeros(tot_numb)\n",
    "    \n",
    "    ''' Define vsec_vec, because of the way TF are defined and the different arguments they take \n",
    "    (adaptive versus non adaptive populations)'''\n",
    "    \n",
    "    vsec_vec=np.zeros((numb_var,numb_var+1))  # Needed to pass different values to TF1 and TF2\n",
    "    \n",
    "    for i in range(numb_var):\n",
    "        for j in range(numb_var):\n",
    "            vsec_vec[i][j]=x0[j]\n",
    "    \n",
    "    for i in range(numb_adapt):\n",
    "            vsec_vec[i][numb_var]=x0[numb_var*numb_var+numb_var+i]\n",
    "\n",
    "\n",
    "    \n",
    "    ''' To optimize the notations, notice that v[i]=x0[i] ; c[i][j]=x0[numb_var*i+j+numb_var] and w[i]=x0[numb_var**2+numb_var+i]'''\n",
    "                   \n",
    "\n",
    "    \n",
    "    for i in range(numb_var):\n",
    "        vsec_vec[i][0]+=ext_drive#+input_rate(t, 2., 0.1, 0.1, 120, 1) #+input_rate(t,0.1,0.005,0.02,10)\n",
    "    \n",
    "\n",
    "    \n",
    "    # Define the TF derivatives here to compute them only once #\n",
    "    \n",
    "    Delta1=np.zeros((numb_var,numb_var))\n",
    "    Delta2=np.zeros((numb_var,numb_var,numb_var))\n",
    "    \n",
    "    Eval_TF=np.zeros(numb_var)\n",
    "    \n",
    "    for i in range(numb_var):\n",
    "        Eval_TF[i]=F[i](*vsec_vec[i])\n",
    "        #print('evaluated TF',i,' = ', Eval_TF[i])\n",
    "        for k in range(numb_var):\n",
    "            Delta1[i][k]=deriv1(F[i],vsec_vec[i],numb_var,h)[k]\n",
    "            for j in range(numb_var):\n",
    "                Delta2[i][k][j]=deriv2(F[i],vsec_vec[i],numb_var,h)[k][j]\n",
    "                #print(Delta2[i][k][j])\n",
    "\n",
    "    \n",
    "    for i in range(numb_var):\n",
    "        deriv[i]=(Eval_TF[i]-x0[i])\n",
    "\n",
    "        deriv[numb_var*i+i+numb_var]+=(Eval_TF[i]*(1./T-Eval_TF[i])/N[i])\n",
    "        for j in range(numb_var):\n",
    "            index=numb_var*i+j+numb_var # define here the location of the considered c variable and its derivative\n",
    "            for k in range(numb_var): \n",
    "                deriv[i]+=(0.5*Delta2[i][j][k]*x0[numb_var*j+k+numb_var])\n",
    "                \n",
    "            deriv[index]+=((Eval_TF[i]-x0[i])*(Eval_TF[j]-x0[j])-2*x0[index])\n",
    "  \n",
    "            for k in range(numb_var):\n",
    "                index_ik=numb_var*i+k+numb_var\n",
    "                index_jk=numb_var*j+k+numb_var\n",
    "                deriv[index]+=(x0[index_jk]*Delta1[i][k]+x0[index_ik]*Delta1[j][k])\n",
    "    for i in range(numb_adapt):\n",
    "        deriv[numb_var**2+numb_var+i]=(-x0[numb_var**2+numb_var+i]/tauw[i]+b[i]*x0[i])#+a[i]*(mu[i](*vsec_vec[i],params)-El[i]))\n",
    "        \n",
    "      # DEFINE MU !!!!#\n",
    "    \n",
    "    \n",
    "    ''' Deriv already shaped to plug it into RK4 routine '''\n",
    "                \n",
    "    return deriv"
   ]
  },
  {
   "cell_type": "code",
   "execution_count": 83,
   "metadata": {},
   "outputs": [],
   "source": [
    "t = np.arange(0, 8, 5e-5)"
   ]
  },
  {
   "cell_type": "code",
   "execution_count": 84,
   "metadata": {},
   "outputs": [
    {
     "name": "stdout",
     "output_type": "stream",
     "text": [
      "[5.0e-01 1.7e+01 1.0e-02 1.0e-02 1.0e-02 1.0e-02 5.0e-11]\n"
     ]
    }
   ],
   "source": [
    "np.random.seed(20)\n",
    "#init_state = np.random.rand(7)*1e-5\n",
    "init_state = np.ones(7)*1e-2\n",
    "init_state[0]=0.5\n",
    "init_state[1]=17.\n",
    "init_state[6]=init_state[0]*100e-12\n",
    "#init_state[3]=init_state[4]\n",
    "print(init_state)\n",
    "state3 = odeint(MeanField_Opt, init_state, t)"
   ]
  },
  {
   "cell_type": "code",
   "execution_count": 82,
   "metadata": {},
   "outputs": [
    {
     "data": {
      "image/png": "[encoded data removed]",
      "text/plain": [
       "<Figure size 864x504 with 1 Axes>"
      ]
     },
     "metadata": {
      "needs_background": "light"
     },
     "output_type": "display_data"
    }
   ],
   "source": [
    "plt.figure(figsize=(12, 7))\n",
    "plt.plot(t, state3[:, 0], color=\"green\", label=\"Excitatory\")\n",
    "plt.plot(t, state3[:, 1], color=\"red\", label=\"Inhibitory\")\n",
    "#plt.plot(t_trace, cee, color=\"blue\", label=\"excitory cee\")\n",
    "#plt.plot(t_trace, cii, color=\"purple\", label=\"inhibitory cii\")\n",
    "#plt.plot(t_trace, cei, color=\"yellow\", label=\"cei\")\n",
    "#plt.plot(t_trace, cie, color=\"orange\", label=\"cie\")\n",
    "#plt.plot(t_trace2,w2*1e5,color=\"black\",label=\"w\")\n",
    "#plt.plot(t_trace2, ve2, color=\"green\", ls=\"--\")\n",
    "#plt.plot(t_trace2, vi2, color=\"red\"Time_traces_2_b2_50.npy, ls=\"--\")\n",
    "#plt.plot(t,test_input, color=\"black\", linestyle=\":\", label=\"forcing\")\n",
    "\n",
    "\n",
    "\n",
    "plt.xlabel(\"Time\")\n",
    "plt.grid(True)\n",
    "plt.ylabel(\"FR\")\n",
    "plt.legend()\n",
    "plt.title(\"MF - Damien-Tomorrow setup\")\n",
    "#plt.ylim(0,20)\n",
    "#plt.xlim(0.5,0.75)\n",
    "plt.show()"
   ]
  },
  {
   "cell_type": "code",
   "execution_count": 65,
   "metadata": {},
   "outputs": [
    {
     "data": {
      "image/png": "[encoded data removed]",
      "text/plain": [
       "<Figure size 864x504 with 1 Axes>"
      ]
     },
     "metadata": {
      "needs_background": "light"
     },
     "output_type": "display_data"
    }
   ],
   "source": [
    "plt.figure(figsize=(12, 7))\n",
    "plt.plot(t, state3[:, 0], color=\"green\", label=\"Red\")\n",
    "plt.plot(t, state3[:, 1], color=\"red\", label=\"Green\")\n",
    "#plt.plot(t_trace, cee, color=\"blue\", label=\"excitory cee\")\n",
    "#plt.plot(t_trace, cii, color=\"purple\", label=\"inhibitory cii\")\n",
    "#plt.plot(t_trace, cei, color=\"yellow\", label=\"cei\")\n",
    "#plt.plot(t_trace, cie, color=\"orange\", label=\"cie\")\n",
    "#plt.plot(t_trace2,w2*1e5,color=\"black\",label=\"w\")\n",
    "#plt.plot(t_trace2, ve2, color=\"green\", ls=\"--\")\n",
    "#plt.plot(t_trace2, vi2, color=\"red\", ls=\"--\")\n",
    "#plt.plot(t,test_input, color=\"black\", linestyle=\":\", label=\"forcing\")\n",
    "\n",
    "\n",
    "\n",
    "plt.xlabel(\"Sandwiches\")\n",
    "plt.grid(True)\n",
    "plt.ylabel(\"Something\")\n",
    "plt.legend()\n",
    "plt.title(\"Interesting\")\n",
    "#plt.ylim(0,20)\n",
    "#plt.xlim(0.5,0.75)\n",
    "plt.show()"
   ]
  },
  {
   "cell_type": "code",
   "execution_count": null,
   "metadata": {},
   "outputs": [],
   "source": []
  }
 ],
 "metadata": {
  "kernelspec": {
   "display_name": "Python 3",
   "language": "python",
   "name": "python3"
  },
  "language_info": {
   "codemirror_mode": {
    "name": "ipython",
    "version": 3
   },
   "file_extension": ".py",
   "mimetype": "text/x-python",
   "name": "python",
   "nbconvert_exporter": "python",
   "pygments_lexer": "ipython3",
   "version": "3.8.8"
  }
 },
 "nbformat": 4,
 "nbformat_minor": 2
}
